{
 "cells": [
  {
   "cell_type": "markdown",
   "metadata": {},
   "source": [
    "# Capstone Project: Create a Customer Segmentation Report for Arvato Financial Services\n",
    "\n",
    "In this project, you will analyze demographics data for customers of a mail-order sales company in Germany, comparing it against demographics information for the general population. You'll use unsupervised learning techniques to perform customer segmentation, identifying the parts of the population that best describe the core customer base of the company. Then, you'll apply what you've learned on a third dataset with demographics information for targets of a marketing campaign for the company, and use a model to predict which individuals are most likely to convert into becoming customers for the company. The data that you will use has been provided by our partners at Bertelsmann Arvato Analytics, and represents a real-life data science task.\n",
    "\n",
    "If you completed the first term of this program, you will be familiar with the first part of this project, from the unsupervised learning project. The versions of those two datasets used in this project will include many more features and has not been pre-cleaned. You are also free to choose whatever approach you'd like to analyzing the data rather than follow pre-determined steps. In your work on this project, make sure that you carefully document your steps and decisions, since your main deliverable for this project will be a blog post reporting your findings."
   ]
  },
  {
   "cell_type": "code",
   "execution_count": 1,
   "metadata": {
    "scrolled": true
   },
   "outputs": [],
   "source": [
    "# import libraries here; add more as necessary\n",
    "import numpy as np\n",
    "import pandas as pd\n",
    "import matplotlib.pyplot as plt\n",
    "import seaborn as sns\n",
    "import dill\n",
    "from sklearn.preprocessing import OneHotEncoder, StandardScaler, Imputer\n",
    "from sklearn.decomposition import PCA\n",
    "from sklearn.cluster import KMeans\n",
    "from sklearn.naive_bayes import MultinomialNB\n",
    "from sklearn.ensemble import RandomForestClassifier\n",
    "from sklearn import svm, tree\n",
    "from sklearn.model_selection import train_test_split, GridSearchCV\n",
    "from sklearn.metrics import accuracy_score, roc_auc_score, make_scorer\n",
    "from workspace_utils import active_session\n",
    "\n",
    "# magic word for producing visualizations in notebook\n",
    "%matplotlib inline"
   ]
  },
  {
   "cell_type": "markdown",
   "metadata": {},
   "source": [
    "### Workspace Utility Functions"
   ]
  },
  {
   "cell_type": "code",
   "execution_count": 2,
   "metadata": {},
   "outputs": [],
   "source": [
    "#dill.dump_session('notebook_env.db')"
   ]
  },
  {
   "cell_type": "code",
   "execution_count": 3,
   "metadata": {},
   "outputs": [],
   "source": [
    "#dill.load_session('notebook_env.db')"
   ]
  },
  {
   "cell_type": "code",
   "execution_count": 4,
   "metadata": {},
   "outputs": [],
   "source": [
    "#with active_session():\n",
    "    # do long-running work here"
   ]
  },
  {
   "cell_type": "markdown",
   "metadata": {},
   "source": [
    "## Part 0: Get to Know the Data\n",
    "\n",
    "There are four data files associated with this project:\n",
    "\n",
    "- `Udacity_AZDIAS_052018.csv`: Demographics data for the general population of Germany; 891 211 persons (rows) x 366 features (columns).\n",
    "- `Udacity_CUSTOMERS_052018.csv`: Demographics data for customers of a mail-order company; 191 652 persons (rows) x 369 features (columns).\n",
    "- `Udacity_MAILOUT_052018_TRAIN.csv`: Demographics data for individuals who were targets of a marketing campaign; 42 982 persons (rows) x 367 (columns).\n",
    "- `Udacity_MAILOUT_052018_TEST.csv`: Demographics data for individuals who were targets of a marketing campaign; 42 833 persons (rows) x 366 (columns).\n",
    "\n",
    "Each row of the demographics files represents a single person, but also includes information outside of individuals, including information about their household, building, and neighborhood. Use the information from the first two files to figure out how customers (\"CUSTOMERS\") are similar to or differ from the general population at large (\"AZDIAS\"), then use your analysis to make predictions on the other two files (\"MAILOUT\"), predicting which recipients are most likely to become a customer for the mail-order company.\n",
    "\n",
    "The \"CUSTOMERS\" file contains three extra columns ('CUSTOMER_GROUP', 'ONLINE_PURCHASE', and 'PRODUCT_GROUP'), which provide broad information about the customers depicted in the file. The original \"MAILOUT\" file included one additional column, \"RESPONSE\", which indicated whether or not each recipient became a customer of the company. For the \"TRAIN\" subset, this column has been retained, but in the \"TEST\" subset it has been removed; it is against that withheld column that your final predictions will be assessed in the Kaggle competition.\n",
    "\n",
    "Otherwise, all of the remaining columns are the same between the three data files. For more information about the columns depicted in the files, you can refer to two Excel spreadsheets provided in the workspace. [One of them](./DIAS Information Levels - Attributes 2017.xlsx) is a top-level list of attributes and descriptions, organized by informational category. [The other](./DIAS Attributes - Values 2017.xlsx) is a detailed mapping of data values for each feature in alphabetical order.\n",
    "\n",
    "In the below cell, we've provided some initial code to load in the first two datasets. Note for all of the `.csv` data files in this project that they're semicolon (`;`) delimited, so an additional argument in the [`read_csv()`](https://pandas.pydata.org/pandas-docs/stable/generated/pandas.read_csv.html) call has been included to read in the data properly. Also, considering the size of the datasets, it may take some time for them to load completely.\n",
    "\n",
    "You'll notice when the data is loaded in that a warning message will immediately pop up. Before you really start digging into the modeling and analysis, you're going to need to perform some cleaning. Take some time to browse the structure of the data and look over the informational spreadsheets to understand the data values. Make some decisions on which features to keep, which features to drop, and if any revisions need to be made on data formats. It'll be a good idea to create a function with pre-processing steps, since you'll need to clean all of the datasets before you work with them."
   ]
  },
  {
   "cell_type": "code",
   "execution_count": 5,
   "metadata": {
    "scrolled": true
   },
   "outputs": [
    {
     "name": "stderr",
     "output_type": "stream",
     "text": [
      "/opt/conda/lib/python3.6/site-packages/IPython/core/interactiveshell.py:2785: DtypeWarning: Columns (18,19) have mixed types. Specify dtype option on import or set low_memory=False.\n",
      "  interactivity=interactivity, compiler=compiler, result=result)\n"
     ]
    }
   ],
   "source": [
    "# load in the data\n",
    "azdias = pd.read_csv('../../data/Term2/capstone/arvato_data/Udacity_AZDIAS_052018.csv', sep=';')\n",
    "customers = pd.read_csv('../../data/Term2/capstone/arvato_data/Udacity_CUSTOMERS_052018.csv', sep=';')"
   ]
  },
  {
   "cell_type": "markdown",
   "metadata": {},
   "source": [
    "### 0.1 Exploring the Mixed Data Values\n",
    "The mixed dataset comes from the columns [CAMEO_DEUG_2015, CAMEO_INTL_2015] as it did in the first part of the course.  Since we don't have the feature_info.csv from the first project, and the information in this project doesn't show us what the errors come from (assuming its the same missing data as before) we have no way of translating it.  \n",
    "\n",
    "I'll explore how much of the data is compromised by this NaN and discuss below.\n"
   ]
  },
  {
   "cell_type": "code",
   "execution_count": 6,
   "metadata": {},
   "outputs": [
    {
     "data": {
      "text/html": [
       "<div>\n",
       "<style scoped>\n",
       "    .dataframe tbody tr th:only-of-type {\n",
       "        vertical-align: middle;\n",
       "    }\n",
       "\n",
       "    .dataframe tbody tr th {\n",
       "        vertical-align: top;\n",
       "    }\n",
       "\n",
       "    .dataframe thead th {\n",
       "        text-align: right;\n",
       "    }\n",
       "</style>\n",
       "<table border=\"1\" class=\"dataframe\">\n",
       "  <thead>\n",
       "    <tr style=\"text-align: right;\">\n",
       "      <th></th>\n",
       "      <th>LNR</th>\n",
       "      <th>AGER_TYP</th>\n",
       "      <th>AKT_DAT_KL</th>\n",
       "      <th>ALTER_HH</th>\n",
       "      <th>ALTER_KIND1</th>\n",
       "      <th>ALTER_KIND2</th>\n",
       "      <th>ALTER_KIND3</th>\n",
       "      <th>ALTER_KIND4</th>\n",
       "      <th>ALTERSKATEGORIE_FEIN</th>\n",
       "      <th>ANZ_HAUSHALTE_AKTIV</th>\n",
       "      <th>...</th>\n",
       "      <th>VHN</th>\n",
       "      <th>VK_DHT4A</th>\n",
       "      <th>VK_DISTANZ</th>\n",
       "      <th>VK_ZG11</th>\n",
       "      <th>W_KEIT_KIND_HH</th>\n",
       "      <th>WOHNDAUER_2008</th>\n",
       "      <th>WOHNLAGE</th>\n",
       "      <th>ZABEOTYP</th>\n",
       "      <th>ANREDE_KZ</th>\n",
       "      <th>ALTERSKATEGORIE_GROB</th>\n",
       "    </tr>\n",
       "  </thead>\n",
       "  <tbody>\n",
       "    <tr>\n",
       "      <th>0</th>\n",
       "      <td>910215</td>\n",
       "      <td>-1</td>\n",
       "      <td>NaN</td>\n",
       "      <td>NaN</td>\n",
       "      <td>NaN</td>\n",
       "      <td>NaN</td>\n",
       "      <td>NaN</td>\n",
       "      <td>NaN</td>\n",
       "      <td>NaN</td>\n",
       "      <td>NaN</td>\n",
       "      <td>...</td>\n",
       "      <td>NaN</td>\n",
       "      <td>NaN</td>\n",
       "      <td>NaN</td>\n",
       "      <td>NaN</td>\n",
       "      <td>NaN</td>\n",
       "      <td>NaN</td>\n",
       "      <td>NaN</td>\n",
       "      <td>3</td>\n",
       "      <td>1</td>\n",
       "      <td>2</td>\n",
       "    </tr>\n",
       "    <tr>\n",
       "      <th>1</th>\n",
       "      <td>910220</td>\n",
       "      <td>-1</td>\n",
       "      <td>9.0</td>\n",
       "      <td>0.0</td>\n",
       "      <td>NaN</td>\n",
       "      <td>NaN</td>\n",
       "      <td>NaN</td>\n",
       "      <td>NaN</td>\n",
       "      <td>21.0</td>\n",
       "      <td>11.0</td>\n",
       "      <td>...</td>\n",
       "      <td>4.0</td>\n",
       "      <td>8.0</td>\n",
       "      <td>11.0</td>\n",
       "      <td>10.0</td>\n",
       "      <td>3.0</td>\n",
       "      <td>9.0</td>\n",
       "      <td>4.0</td>\n",
       "      <td>5</td>\n",
       "      <td>2</td>\n",
       "      <td>1</td>\n",
       "    </tr>\n",
       "    <tr>\n",
       "      <th>2</th>\n",
       "      <td>910225</td>\n",
       "      <td>-1</td>\n",
       "      <td>9.0</td>\n",
       "      <td>17.0</td>\n",
       "      <td>NaN</td>\n",
       "      <td>NaN</td>\n",
       "      <td>NaN</td>\n",
       "      <td>NaN</td>\n",
       "      <td>17.0</td>\n",
       "      <td>10.0</td>\n",
       "      <td>...</td>\n",
       "      <td>2.0</td>\n",
       "      <td>9.0</td>\n",
       "      <td>9.0</td>\n",
       "      <td>6.0</td>\n",
       "      <td>3.0</td>\n",
       "      <td>9.0</td>\n",
       "      <td>2.0</td>\n",
       "      <td>5</td>\n",
       "      <td>2</td>\n",
       "      <td>3</td>\n",
       "    </tr>\n",
       "    <tr>\n",
       "      <th>3</th>\n",
       "      <td>910226</td>\n",
       "      <td>2</td>\n",
       "      <td>1.0</td>\n",
       "      <td>13.0</td>\n",
       "      <td>NaN</td>\n",
       "      <td>NaN</td>\n",
       "      <td>NaN</td>\n",
       "      <td>NaN</td>\n",
       "      <td>13.0</td>\n",
       "      <td>1.0</td>\n",
       "      <td>...</td>\n",
       "      <td>0.0</td>\n",
       "      <td>7.0</td>\n",
       "      <td>10.0</td>\n",
       "      <td>11.0</td>\n",
       "      <td>NaN</td>\n",
       "      <td>9.0</td>\n",
       "      <td>7.0</td>\n",
       "      <td>3</td>\n",
       "      <td>2</td>\n",
       "      <td>4</td>\n",
       "    </tr>\n",
       "    <tr>\n",
       "      <th>4</th>\n",
       "      <td>910241</td>\n",
       "      <td>-1</td>\n",
       "      <td>1.0</td>\n",
       "      <td>20.0</td>\n",
       "      <td>NaN</td>\n",
       "      <td>NaN</td>\n",
       "      <td>NaN</td>\n",
       "      <td>NaN</td>\n",
       "      <td>14.0</td>\n",
       "      <td>3.0</td>\n",
       "      <td>...</td>\n",
       "      <td>2.0</td>\n",
       "      <td>3.0</td>\n",
       "      <td>5.0</td>\n",
       "      <td>4.0</td>\n",
       "      <td>2.0</td>\n",
       "      <td>9.0</td>\n",
       "      <td>3.0</td>\n",
       "      <td>4</td>\n",
       "      <td>1</td>\n",
       "      <td>3</td>\n",
       "    </tr>\n",
       "  </tbody>\n",
       "</table>\n",
       "<p>5 rows × 366 columns</p>\n",
       "</div>"
      ],
      "text/plain": [
       "      LNR  AGER_TYP  AKT_DAT_KL  ALTER_HH  ALTER_KIND1  ALTER_KIND2  \\\n",
       "0  910215        -1         NaN       NaN          NaN          NaN   \n",
       "1  910220        -1         9.0       0.0          NaN          NaN   \n",
       "2  910225        -1         9.0      17.0          NaN          NaN   \n",
       "3  910226         2         1.0      13.0          NaN          NaN   \n",
       "4  910241        -1         1.0      20.0          NaN          NaN   \n",
       "\n",
       "   ALTER_KIND3  ALTER_KIND4  ALTERSKATEGORIE_FEIN  ANZ_HAUSHALTE_AKTIV  \\\n",
       "0          NaN          NaN                   NaN                  NaN   \n",
       "1          NaN          NaN                  21.0                 11.0   \n",
       "2          NaN          NaN                  17.0                 10.0   \n",
       "3          NaN          NaN                  13.0                  1.0   \n",
       "4          NaN          NaN                  14.0                  3.0   \n",
       "\n",
       "          ...           VHN  VK_DHT4A  VK_DISTANZ  VK_ZG11  W_KEIT_KIND_HH  \\\n",
       "0         ...           NaN       NaN         NaN      NaN             NaN   \n",
       "1         ...           4.0       8.0        11.0     10.0             3.0   \n",
       "2         ...           2.0       9.0         9.0      6.0             3.0   \n",
       "3         ...           0.0       7.0        10.0     11.0             NaN   \n",
       "4         ...           2.0       3.0         5.0      4.0             2.0   \n",
       "\n",
       "   WOHNDAUER_2008  WOHNLAGE ZABEOTYP ANREDE_KZ ALTERSKATEGORIE_GROB  \n",
       "0             NaN       NaN        3         1                    2  \n",
       "1             9.0       4.0        5         2                    1  \n",
       "2             9.0       2.0        5         2                    3  \n",
       "3             9.0       7.0        3         2                    4  \n",
       "4             9.0       3.0        4         1                    3  \n",
       "\n",
       "[5 rows x 366 columns]"
      ]
     },
     "execution_count": 6,
     "metadata": {},
     "output_type": "execute_result"
    }
   ],
   "source": [
    "azdias.head()"
   ]
  },
  {
   "cell_type": "code",
   "execution_count": 7,
   "metadata": {},
   "outputs": [
    {
     "data": {
      "text/html": [
       "<div>\n",
       "<style scoped>\n",
       "    .dataframe tbody tr th:only-of-type {\n",
       "        vertical-align: middle;\n",
       "    }\n",
       "\n",
       "    .dataframe tbody tr th {\n",
       "        vertical-align: top;\n",
       "    }\n",
       "\n",
       "    .dataframe thead th {\n",
       "        text-align: right;\n",
       "    }\n",
       "</style>\n",
       "<table border=\"1\" class=\"dataframe\">\n",
       "  <thead>\n",
       "    <tr style=\"text-align: right;\">\n",
       "      <th></th>\n",
       "      <th>LNR</th>\n",
       "      <th>AGER_TYP</th>\n",
       "      <th>AKT_DAT_KL</th>\n",
       "      <th>ALTER_HH</th>\n",
       "      <th>ALTER_KIND1</th>\n",
       "      <th>ALTER_KIND2</th>\n",
       "      <th>ALTER_KIND3</th>\n",
       "      <th>ALTER_KIND4</th>\n",
       "      <th>ALTERSKATEGORIE_FEIN</th>\n",
       "      <th>ANZ_HAUSHALTE_AKTIV</th>\n",
       "      <th>...</th>\n",
       "      <th>VHN</th>\n",
       "      <th>VK_DHT4A</th>\n",
       "      <th>VK_DISTANZ</th>\n",
       "      <th>VK_ZG11</th>\n",
       "      <th>W_KEIT_KIND_HH</th>\n",
       "      <th>WOHNDAUER_2008</th>\n",
       "      <th>WOHNLAGE</th>\n",
       "      <th>ZABEOTYP</th>\n",
       "      <th>ANREDE_KZ</th>\n",
       "      <th>ALTERSKATEGORIE_GROB</th>\n",
       "    </tr>\n",
       "  </thead>\n",
       "  <tbody>\n",
       "    <tr>\n",
       "      <th>count</th>\n",
       "      <td>8.912210e+05</td>\n",
       "      <td>891221.000000</td>\n",
       "      <td>817722.000000</td>\n",
       "      <td>817722.000000</td>\n",
       "      <td>81058.000000</td>\n",
       "      <td>29499.000000</td>\n",
       "      <td>6170.000000</td>\n",
       "      <td>1205.000000</td>\n",
       "      <td>628274.000000</td>\n",
       "      <td>798073.000000</td>\n",
       "      <td>...</td>\n",
       "      <td>770025.000000</td>\n",
       "      <td>815304.000000</td>\n",
       "      <td>815304.000000</td>\n",
       "      <td>815304.000000</td>\n",
       "      <td>783619.000000</td>\n",
       "      <td>817722.000000</td>\n",
       "      <td>798073.000000</td>\n",
       "      <td>891221.000000</td>\n",
       "      <td>891221.000000</td>\n",
       "      <td>891221.000000</td>\n",
       "    </tr>\n",
       "    <tr>\n",
       "      <th>mean</th>\n",
       "      <td>6.372630e+05</td>\n",
       "      <td>-0.358435</td>\n",
       "      <td>4.421928</td>\n",
       "      <td>10.864126</td>\n",
       "      <td>11.745392</td>\n",
       "      <td>13.402658</td>\n",
       "      <td>14.476013</td>\n",
       "      <td>15.089627</td>\n",
       "      <td>13.700717</td>\n",
       "      <td>8.287263</td>\n",
       "      <td>...</td>\n",
       "      <td>2.417322</td>\n",
       "      <td>6.001214</td>\n",
       "      <td>7.532130</td>\n",
       "      <td>5.945972</td>\n",
       "      <td>3.933406</td>\n",
       "      <td>7.908791</td>\n",
       "      <td>4.052836</td>\n",
       "      <td>3.362438</td>\n",
       "      <td>1.522098</td>\n",
       "      <td>2.777398</td>\n",
       "    </tr>\n",
       "    <tr>\n",
       "      <th>std</th>\n",
       "      <td>2.572735e+05</td>\n",
       "      <td>1.198724</td>\n",
       "      <td>3.638805</td>\n",
       "      <td>7.639683</td>\n",
       "      <td>4.097660</td>\n",
       "      <td>3.243300</td>\n",
       "      <td>2.712427</td>\n",
       "      <td>2.452932</td>\n",
       "      <td>5.079849</td>\n",
       "      <td>15.628087</td>\n",
       "      <td>...</td>\n",
       "      <td>1.166572</td>\n",
       "      <td>2.856091</td>\n",
       "      <td>3.247789</td>\n",
       "      <td>2.771464</td>\n",
       "      <td>1.964701</td>\n",
       "      <td>1.923137</td>\n",
       "      <td>1.949539</td>\n",
       "      <td>1.352704</td>\n",
       "      <td>0.499512</td>\n",
       "      <td>1.068775</td>\n",
       "    </tr>\n",
       "    <tr>\n",
       "      <th>min</th>\n",
       "      <td>1.916530e+05</td>\n",
       "      <td>-1.000000</td>\n",
       "      <td>1.000000</td>\n",
       "      <td>0.000000</td>\n",
       "      <td>2.000000</td>\n",
       "      <td>2.000000</td>\n",
       "      <td>4.000000</td>\n",
       "      <td>7.000000</td>\n",
       "      <td>0.000000</td>\n",
       "      <td>0.000000</td>\n",
       "      <td>...</td>\n",
       "      <td>0.000000</td>\n",
       "      <td>1.000000</td>\n",
       "      <td>1.000000</td>\n",
       "      <td>1.000000</td>\n",
       "      <td>0.000000</td>\n",
       "      <td>1.000000</td>\n",
       "      <td>0.000000</td>\n",
       "      <td>1.000000</td>\n",
       "      <td>1.000000</td>\n",
       "      <td>1.000000</td>\n",
       "    </tr>\n",
       "    <tr>\n",
       "      <th>25%</th>\n",
       "      <td>4.144580e+05</td>\n",
       "      <td>-1.000000</td>\n",
       "      <td>1.000000</td>\n",
       "      <td>0.000000</td>\n",
       "      <td>8.000000</td>\n",
       "      <td>11.000000</td>\n",
       "      <td>13.000000</td>\n",
       "      <td>14.000000</td>\n",
       "      <td>11.000000</td>\n",
       "      <td>1.000000</td>\n",
       "      <td>...</td>\n",
       "      <td>2.000000</td>\n",
       "      <td>3.000000</td>\n",
       "      <td>5.000000</td>\n",
       "      <td>4.000000</td>\n",
       "      <td>2.000000</td>\n",
       "      <td>8.000000</td>\n",
       "      <td>3.000000</td>\n",
       "      <td>3.000000</td>\n",
       "      <td>1.000000</td>\n",
       "      <td>2.000000</td>\n",
       "    </tr>\n",
       "    <tr>\n",
       "      <th>50%</th>\n",
       "      <td>6.372630e+05</td>\n",
       "      <td>-1.000000</td>\n",
       "      <td>3.000000</td>\n",
       "      <td>13.000000</td>\n",
       "      <td>12.000000</td>\n",
       "      <td>14.000000</td>\n",
       "      <td>15.000000</td>\n",
       "      <td>15.000000</td>\n",
       "      <td>14.000000</td>\n",
       "      <td>4.000000</td>\n",
       "      <td>...</td>\n",
       "      <td>2.000000</td>\n",
       "      <td>6.000000</td>\n",
       "      <td>8.000000</td>\n",
       "      <td>6.000000</td>\n",
       "      <td>4.000000</td>\n",
       "      <td>9.000000</td>\n",
       "      <td>3.000000</td>\n",
       "      <td>3.000000</td>\n",
       "      <td>2.000000</td>\n",
       "      <td>3.000000</td>\n",
       "    </tr>\n",
       "    <tr>\n",
       "      <th>75%</th>\n",
       "      <td>8.600680e+05</td>\n",
       "      <td>-1.000000</td>\n",
       "      <td>9.000000</td>\n",
       "      <td>17.000000</td>\n",
       "      <td>15.000000</td>\n",
       "      <td>16.000000</td>\n",
       "      <td>17.000000</td>\n",
       "      <td>17.000000</td>\n",
       "      <td>17.000000</td>\n",
       "      <td>9.000000</td>\n",
       "      <td>...</td>\n",
       "      <td>3.000000</td>\n",
       "      <td>9.000000</td>\n",
       "      <td>10.000000</td>\n",
       "      <td>8.000000</td>\n",
       "      <td>6.000000</td>\n",
       "      <td>9.000000</td>\n",
       "      <td>5.000000</td>\n",
       "      <td>4.000000</td>\n",
       "      <td>2.000000</td>\n",
       "      <td>4.000000</td>\n",
       "    </tr>\n",
       "    <tr>\n",
       "      <th>max</th>\n",
       "      <td>1.082873e+06</td>\n",
       "      <td>3.000000</td>\n",
       "      <td>9.000000</td>\n",
       "      <td>21.000000</td>\n",
       "      <td>18.000000</td>\n",
       "      <td>18.000000</td>\n",
       "      <td>18.000000</td>\n",
       "      <td>18.000000</td>\n",
       "      <td>25.000000</td>\n",
       "      <td>595.000000</td>\n",
       "      <td>...</td>\n",
       "      <td>4.000000</td>\n",
       "      <td>11.000000</td>\n",
       "      <td>13.000000</td>\n",
       "      <td>11.000000</td>\n",
       "      <td>6.000000</td>\n",
       "      <td>9.000000</td>\n",
       "      <td>8.000000</td>\n",
       "      <td>6.000000</td>\n",
       "      <td>2.000000</td>\n",
       "      <td>9.000000</td>\n",
       "    </tr>\n",
       "  </tbody>\n",
       "</table>\n",
       "<p>8 rows × 360 columns</p>\n",
       "</div>"
      ],
      "text/plain": [
       "                LNR       AGER_TYP     AKT_DAT_KL       ALTER_HH  \\\n",
       "count  8.912210e+05  891221.000000  817722.000000  817722.000000   \n",
       "mean   6.372630e+05      -0.358435       4.421928      10.864126   \n",
       "std    2.572735e+05       1.198724       3.638805       7.639683   \n",
       "min    1.916530e+05      -1.000000       1.000000       0.000000   \n",
       "25%    4.144580e+05      -1.000000       1.000000       0.000000   \n",
       "50%    6.372630e+05      -1.000000       3.000000      13.000000   \n",
       "75%    8.600680e+05      -1.000000       9.000000      17.000000   \n",
       "max    1.082873e+06       3.000000       9.000000      21.000000   \n",
       "\n",
       "        ALTER_KIND1   ALTER_KIND2  ALTER_KIND3  ALTER_KIND4  \\\n",
       "count  81058.000000  29499.000000  6170.000000  1205.000000   \n",
       "mean      11.745392     13.402658    14.476013    15.089627   \n",
       "std        4.097660      3.243300     2.712427     2.452932   \n",
       "min        2.000000      2.000000     4.000000     7.000000   \n",
       "25%        8.000000     11.000000    13.000000    14.000000   \n",
       "50%       12.000000     14.000000    15.000000    15.000000   \n",
       "75%       15.000000     16.000000    17.000000    17.000000   \n",
       "max       18.000000     18.000000    18.000000    18.000000   \n",
       "\n",
       "       ALTERSKATEGORIE_FEIN  ANZ_HAUSHALTE_AKTIV          ...           \\\n",
       "count         628274.000000        798073.000000          ...            \n",
       "mean              13.700717             8.287263          ...            \n",
       "std                5.079849            15.628087          ...            \n",
       "min                0.000000             0.000000          ...            \n",
       "25%               11.000000             1.000000          ...            \n",
       "50%               14.000000             4.000000          ...            \n",
       "75%               17.000000             9.000000          ...            \n",
       "max               25.000000           595.000000          ...            \n",
       "\n",
       "                 VHN       VK_DHT4A     VK_DISTANZ        VK_ZG11  \\\n",
       "count  770025.000000  815304.000000  815304.000000  815304.000000   \n",
       "mean        2.417322       6.001214       7.532130       5.945972   \n",
       "std         1.166572       2.856091       3.247789       2.771464   \n",
       "min         0.000000       1.000000       1.000000       1.000000   \n",
       "25%         2.000000       3.000000       5.000000       4.000000   \n",
       "50%         2.000000       6.000000       8.000000       6.000000   \n",
       "75%         3.000000       9.000000      10.000000       8.000000   \n",
       "max         4.000000      11.000000      13.000000      11.000000   \n",
       "\n",
       "       W_KEIT_KIND_HH  WOHNDAUER_2008       WOHNLAGE       ZABEOTYP  \\\n",
       "count   783619.000000   817722.000000  798073.000000  891221.000000   \n",
       "mean         3.933406        7.908791       4.052836       3.362438   \n",
       "std          1.964701        1.923137       1.949539       1.352704   \n",
       "min          0.000000        1.000000       0.000000       1.000000   \n",
       "25%          2.000000        8.000000       3.000000       3.000000   \n",
       "50%          4.000000        9.000000       3.000000       3.000000   \n",
       "75%          6.000000        9.000000       5.000000       4.000000   \n",
       "max          6.000000        9.000000       8.000000       6.000000   \n",
       "\n",
       "           ANREDE_KZ  ALTERSKATEGORIE_GROB  \n",
       "count  891221.000000         891221.000000  \n",
       "mean        1.522098              2.777398  \n",
       "std         0.499512              1.068775  \n",
       "min         1.000000              1.000000  \n",
       "25%         1.000000              2.000000  \n",
       "50%         2.000000              3.000000  \n",
       "75%         2.000000              4.000000  \n",
       "max         2.000000              9.000000  \n",
       "\n",
       "[8 rows x 360 columns]"
      ]
     },
     "execution_count": 7,
     "metadata": {},
     "output_type": "execute_result"
    }
   ],
   "source": [
    "azdias.describe()"
   ]
  },
  {
   "cell_type": "code",
   "execution_count": 8,
   "metadata": {
    "scrolled": true
   },
   "outputs": [
    {
     "data": {
      "text/html": [
       "<div>\n",
       "<style scoped>\n",
       "    .dataframe tbody tr th:only-of-type {\n",
       "        vertical-align: middle;\n",
       "    }\n",
       "\n",
       "    .dataframe tbody tr th {\n",
       "        vertical-align: top;\n",
       "    }\n",
       "\n",
       "    .dataframe thead th {\n",
       "        text-align: right;\n",
       "    }\n",
       "</style>\n",
       "<table border=\"1\" class=\"dataframe\">\n",
       "  <thead>\n",
       "    <tr style=\"text-align: right;\">\n",
       "      <th></th>\n",
       "      <th>CAMEO_DEUG_2015</th>\n",
       "      <th>CAMEO_INTL_2015</th>\n",
       "    </tr>\n",
       "  </thead>\n",
       "  <tbody>\n",
       "    <tr>\n",
       "      <th>0</th>\n",
       "      <td>NaN</td>\n",
       "      <td>NaN</td>\n",
       "    </tr>\n",
       "    <tr>\n",
       "      <th>1</th>\n",
       "      <td>8</td>\n",
       "      <td>51</td>\n",
       "    </tr>\n",
       "    <tr>\n",
       "      <th>2</th>\n",
       "      <td>4</td>\n",
       "      <td>24</td>\n",
       "    </tr>\n",
       "    <tr>\n",
       "      <th>3</th>\n",
       "      <td>2</td>\n",
       "      <td>12</td>\n",
       "    </tr>\n",
       "    <tr>\n",
       "      <th>4</th>\n",
       "      <td>6</td>\n",
       "      <td>43</td>\n",
       "    </tr>\n",
       "  </tbody>\n",
       "</table>\n",
       "</div>"
      ],
      "text/plain": [
       "  CAMEO_DEUG_2015 CAMEO_INTL_2015\n",
       "0             NaN             NaN\n",
       "1               8              51\n",
       "2               4              24\n",
       "3               2              12\n",
       "4               6              43"
      ]
     },
     "execution_count": 8,
     "metadata": {},
     "output_type": "execute_result"
    }
   ],
   "source": [
    "azdias.iloc[0:5, 18:20]"
   ]
  },
  {
   "cell_type": "code",
   "execution_count": 9,
   "metadata": {
    "scrolled": true
   },
   "outputs": [
    {
     "name": "stdout",
     "output_type": "stream",
     "text": [
      "0.8889400047799592\n"
     ]
    }
   ],
   "source": [
    "# How much of the population dataset is affected if we drop the NaN?\n",
    "az_dropped_NaN = len(azdias.iloc[:, 18:20].dropna())\n",
    "az_full = len(azdias)\n",
    "print(az_dropped_NaN/az_full)"
   ]
  },
  {
   "cell_type": "code",
   "execution_count": 10,
   "metadata": {
    "scrolled": true
   },
   "outputs": [
    {
     "name": "stdout",
     "output_type": "stream",
     "text": [
      "0.7368772566944253\n"
     ]
    }
   ],
   "source": [
    "# How much of the customer dataset is affected if we drop the NaN?\n",
    "cust_dropped_NaN = len(customers.iloc[:, 18:20].dropna())\n",
    "cust_full = len(customers)\n",
    "print(cust_dropped_NaN/cust_full)"
   ]
  },
  {
   "cell_type": "markdown",
   "metadata": {},
   "source": [
    "Well 12% of the population is reasonably acceptable, but almost 30% of the customer dataset is a much tougher sell.  Let's see if we can't pull those demographics from other dimensions."
   ]
  },
  {
   "cell_type": "code",
   "execution_count": 11,
   "metadata": {
    "scrolled": false
   },
   "outputs": [
    {
     "data": {
      "text/html": [
       "<div>\n",
       "<style scoped>\n",
       "    .dataframe tbody tr th:only-of-type {\n",
       "        vertical-align: middle;\n",
       "    }\n",
       "\n",
       "    .dataframe tbody tr th {\n",
       "        vertical-align: top;\n",
       "    }\n",
       "\n",
       "    .dataframe thead th {\n",
       "        text-align: right;\n",
       "    }\n",
       "</style>\n",
       "<table border=\"1\" class=\"dataframe\">\n",
       "  <thead>\n",
       "    <tr style=\"text-align: right;\">\n",
       "      <th></th>\n",
       "      <th>ARBEIT</th>\n",
       "      <th>BALLRAUM</th>\n",
       "      <th>CAMEO_DEU_2015</th>\n",
       "      <th>CAMEO_DEUG_2015</th>\n",
       "      <th>CAMEO_INTL_2015</th>\n",
       "      <th>CJT_GESAMTTYP</th>\n",
       "      <th>CJT_KATALOGNUTZER</th>\n",
       "    </tr>\n",
       "  </thead>\n",
       "  <tbody>\n",
       "    <tr>\n",
       "      <th>0</th>\n",
       "      <td>NaN</td>\n",
       "      <td>NaN</td>\n",
       "      <td>NaN</td>\n",
       "      <td>NaN</td>\n",
       "      <td>NaN</td>\n",
       "      <td>2.0</td>\n",
       "      <td>5.0</td>\n",
       "    </tr>\n",
       "    <tr>\n",
       "      <th>1</th>\n",
       "      <td>3.0</td>\n",
       "      <td>6.0</td>\n",
       "      <td>8A</td>\n",
       "      <td>8</td>\n",
       "      <td>51</td>\n",
       "      <td>5.0</td>\n",
       "      <td>1.0</td>\n",
       "    </tr>\n",
       "    <tr>\n",
       "      <th>2</th>\n",
       "      <td>3.0</td>\n",
       "      <td>2.0</td>\n",
       "      <td>4C</td>\n",
       "      <td>4</td>\n",
       "      <td>24</td>\n",
       "      <td>3.0</td>\n",
       "      <td>2.0</td>\n",
       "    </tr>\n",
       "    <tr>\n",
       "      <th>3</th>\n",
       "      <td>2.0</td>\n",
       "      <td>4.0</td>\n",
       "      <td>2A</td>\n",
       "      <td>2</td>\n",
       "      <td>12</td>\n",
       "      <td>2.0</td>\n",
       "      <td>3.0</td>\n",
       "    </tr>\n",
       "    <tr>\n",
       "      <th>4</th>\n",
       "      <td>4.0</td>\n",
       "      <td>2.0</td>\n",
       "      <td>6B</td>\n",
       "      <td>6</td>\n",
       "      <td>43</td>\n",
       "      <td>5.0</td>\n",
       "      <td>3.0</td>\n",
       "    </tr>\n",
       "    <tr>\n",
       "      <th>5</th>\n",
       "      <td>2.0</td>\n",
       "      <td>6.0</td>\n",
       "      <td>8C</td>\n",
       "      <td>8</td>\n",
       "      <td>54</td>\n",
       "      <td>2.0</td>\n",
       "      <td>5.0</td>\n",
       "    </tr>\n",
       "    <tr>\n",
       "      <th>6</th>\n",
       "      <td>4.0</td>\n",
       "      <td>6.0</td>\n",
       "      <td>4A</td>\n",
       "      <td>4</td>\n",
       "      <td>22</td>\n",
       "      <td>5.0</td>\n",
       "      <td>3.0</td>\n",
       "    </tr>\n",
       "    <tr>\n",
       "      <th>7</th>\n",
       "      <td>2.0</td>\n",
       "      <td>2.0</td>\n",
       "      <td>2D</td>\n",
       "      <td>2</td>\n",
       "      <td>14</td>\n",
       "      <td>3.0</td>\n",
       "      <td>5.0</td>\n",
       "    </tr>\n",
       "    <tr>\n",
       "      <th>8</th>\n",
       "      <td>2.0</td>\n",
       "      <td>3.0</td>\n",
       "      <td>1A</td>\n",
       "      <td>1</td>\n",
       "      <td>13</td>\n",
       "      <td>3.0</td>\n",
       "      <td>4.0</td>\n",
       "    </tr>\n",
       "    <tr>\n",
       "      <th>9</th>\n",
       "      <td>2.0</td>\n",
       "      <td>6.0</td>\n",
       "      <td>1E</td>\n",
       "      <td>1</td>\n",
       "      <td>15</td>\n",
       "      <td>4.0</td>\n",
       "      <td>1.0</td>\n",
       "    </tr>\n",
       "    <tr>\n",
       "      <th>10</th>\n",
       "      <td>4.0</td>\n",
       "      <td>6.0</td>\n",
       "      <td>9D</td>\n",
       "      <td>9</td>\n",
       "      <td>51</td>\n",
       "      <td>1.0</td>\n",
       "      <td>5.0</td>\n",
       "    </tr>\n",
       "    <tr>\n",
       "      <th>11</th>\n",
       "      <td>NaN</td>\n",
       "      <td>NaN</td>\n",
       "      <td>NaN</td>\n",
       "      <td>NaN</td>\n",
       "      <td>NaN</td>\n",
       "      <td>6.0</td>\n",
       "      <td>5.0</td>\n",
       "    </tr>\n",
       "    <tr>\n",
       "      <th>12</th>\n",
       "      <td>3.0</td>\n",
       "      <td>2.0</td>\n",
       "      <td>6B</td>\n",
       "      <td>6</td>\n",
       "      <td>43</td>\n",
       "      <td>6.0</td>\n",
       "      <td>4.0</td>\n",
       "    </tr>\n",
       "    <tr>\n",
       "      <th>13</th>\n",
       "      <td>3.0</td>\n",
       "      <td>7.0</td>\n",
       "      <td>5C</td>\n",
       "      <td>5</td>\n",
       "      <td>33</td>\n",
       "      <td>5.0</td>\n",
       "      <td>1.0</td>\n",
       "    </tr>\n",
       "    <tr>\n",
       "      <th>14</th>\n",
       "      <td>NaN</td>\n",
       "      <td>NaN</td>\n",
       "      <td>NaN</td>\n",
       "      <td>NaN</td>\n",
       "      <td>NaN</td>\n",
       "      <td>6.0</td>\n",
       "      <td>5.0</td>\n",
       "    </tr>\n",
       "    <tr>\n",
       "      <th>15</th>\n",
       "      <td>4.0</td>\n",
       "      <td>1.0</td>\n",
       "      <td>8B</td>\n",
       "      <td>8</td>\n",
       "      <td>41</td>\n",
       "      <td>4.0</td>\n",
       "      <td>5.0</td>\n",
       "    </tr>\n",
       "    <tr>\n",
       "      <th>16</th>\n",
       "      <td>1.0</td>\n",
       "      <td>6.0</td>\n",
       "      <td>7A</td>\n",
       "      <td>7</td>\n",
       "      <td>41</td>\n",
       "      <td>1.0</td>\n",
       "      <td>2.0</td>\n",
       "    </tr>\n",
       "    <tr>\n",
       "      <th>17</th>\n",
       "      <td>NaN</td>\n",
       "      <td>NaN</td>\n",
       "      <td>NaN</td>\n",
       "      <td>NaN</td>\n",
       "      <td>NaN</td>\n",
       "      <td>6.0</td>\n",
       "      <td>5.0</td>\n",
       "    </tr>\n",
       "    <tr>\n",
       "      <th>18</th>\n",
       "      <td>3.0</td>\n",
       "      <td>6.0</td>\n",
       "      <td>4C</td>\n",
       "      <td>4</td>\n",
       "      <td>24</td>\n",
       "      <td>6.0</td>\n",
       "      <td>1.0</td>\n",
       "    </tr>\n",
       "    <tr>\n",
       "      <th>19</th>\n",
       "      <td>4.0</td>\n",
       "      <td>6.0</td>\n",
       "      <td>5D</td>\n",
       "      <td>5</td>\n",
       "      <td>34</td>\n",
       "      <td>3.0</td>\n",
       "      <td>3.0</td>\n",
       "    </tr>\n",
       "    <tr>\n",
       "      <th>20</th>\n",
       "      <td>3.0</td>\n",
       "      <td>5.0</td>\n",
       "      <td>4C</td>\n",
       "      <td>4</td>\n",
       "      <td>24</td>\n",
       "      <td>4.0</td>\n",
       "      <td>4.0</td>\n",
       "    </tr>\n",
       "    <tr>\n",
       "      <th>21</th>\n",
       "      <td>5.0</td>\n",
       "      <td>2.0</td>\n",
       "      <td>9E</td>\n",
       "      <td>9</td>\n",
       "      <td>55</td>\n",
       "      <td>3.0</td>\n",
       "      <td>3.0</td>\n",
       "    </tr>\n",
       "    <tr>\n",
       "      <th>22</th>\n",
       "      <td>4.0</td>\n",
       "      <td>3.0</td>\n",
       "      <td>9D</td>\n",
       "      <td>9</td>\n",
       "      <td>51</td>\n",
       "      <td>4.0</td>\n",
       "      <td>4.0</td>\n",
       "    </tr>\n",
       "    <tr>\n",
       "      <th>23</th>\n",
       "      <td>3.0</td>\n",
       "      <td>2.0</td>\n",
       "      <td>6B</td>\n",
       "      <td>6</td>\n",
       "      <td>43</td>\n",
       "      <td>3.0</td>\n",
       "      <td>3.0</td>\n",
       "    </tr>\n",
       "    <tr>\n",
       "      <th>24</th>\n",
       "      <td>NaN</td>\n",
       "      <td>NaN</td>\n",
       "      <td>NaN</td>\n",
       "      <td>NaN</td>\n",
       "      <td>NaN</td>\n",
       "      <td>6.0</td>\n",
       "      <td>5.0</td>\n",
       "    </tr>\n",
       "  </tbody>\n",
       "</table>\n",
       "</div>"
      ],
      "text/plain": [
       "    ARBEIT  BALLRAUM CAMEO_DEU_2015 CAMEO_DEUG_2015 CAMEO_INTL_2015  \\\n",
       "0      NaN       NaN            NaN             NaN             NaN   \n",
       "1      3.0       6.0             8A               8              51   \n",
       "2      3.0       2.0             4C               4              24   \n",
       "3      2.0       4.0             2A               2              12   \n",
       "4      4.0       2.0             6B               6              43   \n",
       "5      2.0       6.0             8C               8              54   \n",
       "6      4.0       6.0             4A               4              22   \n",
       "7      2.0       2.0             2D               2              14   \n",
       "8      2.0       3.0             1A               1              13   \n",
       "9      2.0       6.0             1E               1              15   \n",
       "10     4.0       6.0             9D               9              51   \n",
       "11     NaN       NaN            NaN             NaN             NaN   \n",
       "12     3.0       2.0             6B               6              43   \n",
       "13     3.0       7.0             5C               5              33   \n",
       "14     NaN       NaN            NaN             NaN             NaN   \n",
       "15     4.0       1.0             8B               8              41   \n",
       "16     1.0       6.0             7A               7              41   \n",
       "17     NaN       NaN            NaN             NaN             NaN   \n",
       "18     3.0       6.0             4C               4              24   \n",
       "19     4.0       6.0             5D               5              34   \n",
       "20     3.0       5.0             4C               4              24   \n",
       "21     5.0       2.0             9E               9              55   \n",
       "22     4.0       3.0             9D               9              51   \n",
       "23     3.0       2.0             6B               6              43   \n",
       "24     NaN       NaN            NaN             NaN             NaN   \n",
       "\n",
       "    CJT_GESAMTTYP  CJT_KATALOGNUTZER  \n",
       "0             2.0                5.0  \n",
       "1             5.0                1.0  \n",
       "2             3.0                2.0  \n",
       "3             2.0                3.0  \n",
       "4             5.0                3.0  \n",
       "5             2.0                5.0  \n",
       "6             5.0                3.0  \n",
       "7             3.0                5.0  \n",
       "8             3.0                4.0  \n",
       "9             4.0                1.0  \n",
       "10            1.0                5.0  \n",
       "11            6.0                5.0  \n",
       "12            6.0                4.0  \n",
       "13            5.0                1.0  \n",
       "14            6.0                5.0  \n",
       "15            4.0                5.0  \n",
       "16            1.0                2.0  \n",
       "17            6.0                5.0  \n",
       "18            6.0                1.0  \n",
       "19            3.0                3.0  \n",
       "20            4.0                4.0  \n",
       "21            3.0                3.0  \n",
       "22            4.0                4.0  \n",
       "23            3.0                3.0  \n",
       "24            6.0                5.0  "
      ]
     },
     "execution_count": 11,
     "metadata": {},
     "output_type": "execute_result"
    }
   ],
   "source": [
    "azdias.iloc[0:25, 15:22]"
   ]
  },
  {
   "cell_type": "markdown",
   "metadata": {},
   "source": [
    "It seems the CAMEO_ dimensions are all tied together in terms of validity.  This leaves 2 options: \n",
    "a) I can transform those into the equivalent \"unknown\" value for that column, or\n",
    "b) I can drop those columns completely from the analysis. \n",
    "I'm inclined to option A as there is still value in having those dimensions present, as they may end up being insignificant anyways for the model but they still add variability between customers.  It will be important to ensure that the dimensions are treated as categorical and not quantitative.\n",
    "\n",
    "For now, let's leave this to be fixed in the function later and explore the other columns for missing data"
   ]
  },
  {
   "cell_type": "markdown",
   "metadata": {},
   "source": [
    "### 0.2 Columns with significant Null Values\n",
    "In this next section, we'll be going through and identifying the columns that have a significant amount of missing values.  A simple count of null values in each column compared to the total length of the DataFrame plotted below will show us where the majority of values lie."
   ]
  },
  {
   "cell_type": "code",
   "execution_count": 12,
   "metadata": {
    "scrolled": true
   },
   "outputs": [],
   "source": [
    "az_len = len(azdias)\n",
    "null_value = azdias.isnull().sum()"
   ]
  },
  {
   "cell_type": "code",
   "execution_count": 13,
   "metadata": {
    "scrolled": false
   },
   "outputs": [
    {
     "data": {
      "text/plain": [
       "Text(0,0.5,'Count of Dimensions')"
      ]
     },
     "execution_count": 13,
     "metadata": {},
     "output_type": "execute_result"
    },
    {
     "data": {
      "image/png": "[encoded data removed]",
      "text/plain": [
       "<matplotlib.figure.Figure at 0x7f4180e34518>"
      ]
     },
     "metadata": {
      "needs_background": "light"
     },
     "output_type": "display_data"
    }
   ],
   "source": [
    "missing_data_col = null_value/az_len\n",
    "plt.hist(missing_data_col)\n",
    "plt.title('Missing Data by Dimension')\n",
    "plt.xlabel('Percentage of Missing Data')\n",
    "plt.ylabel('Count of Dimensions')"
   ]
  },
  {
   "cell_type": "markdown",
   "metadata": {},
   "source": [
    "The histogram shows that the majority of dimensions have greater than 80% validity (in actual fact it's closer to 85%) while there are some that have signficantly less - even as little as .15%! We can confidently get rid of these columns that have less than 80% validity, which is demonstrated in the cells below. "
   ]
  },
  {
   "cell_type": "code",
   "execution_count": 14,
   "metadata": {
    "scrolled": false
   },
   "outputs": [
    {
     "name": "stdout",
     "output_type": "stream",
     "text": [
      "Index(['ALTER_KIND1', 'ALTER_KIND2', 'ALTER_KIND3', 'ALTER_KIND4',\n",
      "       'ALTERSKATEGORIE_FEIN', 'D19_BANKEN_ONLINE_QUOTE_12',\n",
      "       'D19_GESAMT_ONLINE_QUOTE_12', 'D19_KONSUMTYP',\n",
      "       'D19_LETZTER_KAUF_BRANCHE', 'D19_LOTTO', 'D19_SOZIALES',\n",
      "       'D19_TELKO_ONLINE_QUOTE_12', 'D19_VERSAND_ONLINE_QUOTE_12',\n",
      "       'D19_VERSI_ONLINE_QUOTE_12', 'EXTSEL992', 'KK_KUNDENTYP'],\n",
      "      dtype='object')\n"
     ]
    }
   ],
   "source": [
    "drop_col = np.where(missing_data_col >= 0.2)\n",
    "print(azdias.columns[drop_col])"
   ]
  },
  {
   "cell_type": "code",
   "execution_count": 15,
   "metadata": {
    "scrolled": true
   },
   "outputs": [],
   "source": [
    "#    df.drop('ALTER_KIND1', 'ALTER_KIND2', 'ALTER_KIND3', 'ALTER_KIND4',\n",
    "#       'ALTERSKATEGORIE_FEIN', 'D19_BANKEN_ONLINE_QUOTE_12',\n",
    "#       'D19_GESAMT_ONLINE_QUOTE_12', 'D19_KONSUMTYP',\n",
    "#       'D19_LETZTER_KAUF_BRANCHE', 'D19_LOTTO', 'D19_SOZIALES',\n",
    "#       'D19_TELKO_ONLINE_QUOTE_12', 'D19_VERSAND_ONLINE_QUOTE_12',\n",
    "#       'D19_VERSI_ONLINE_QUOTE_12', 'EXTSEL992', 'KK_KUNDENTYP'] , axis='columns', inplace=True)"
   ]
  },
  {
   "cell_type": "markdown",
   "metadata": {},
   "source": [
    "### 0.3 Simplifiying 'Unknown' Values\n",
    "Next we need to clean all of the dimensions that have more than 1 value for 'unknown'.  This has been done with the feature information .csv files included in this workspace.  Generally, the dimensions use -1 as an unknown indicator, except for these two groups below which also use either 9 or 0 as an unknown indicator.  A simple replace function will help us clean that up, which has been built into the custom cleaning function below. "
   ]
  },
  {
   "cell_type": "code",
   "execution_count": 16,
   "metadata": {
    "scrolled": true
   },
   "outputs": [],
   "source": [
    "zero_list = {'ALTERSKATEGORIE_GROB', 'ANREDE_KZ', 'GEBAEUDETYP',\n",
    "           'HH_EINKOMMEN_SCORE', 'KBA05_BAUMAX', 'KBA05_GBZ', 'KKK', 'NATIONALITAET_KZ', 'PRAEGENDE_JUGENDJAHRE',\n",
    "           'REGIOTYP', 'TITEL_KZ', 'WOHNDAUER_2008', 'W_KEIT_KIND_HH'}\n",
    "nine_list = {'KBA05_ALTER1', 'KBA05_ALTER2', 'KBA05_ALTER3', 'KBA05_ALTER4', 'KBA05_ANHANG', 'KBA05_AUTOQUOT',\n",
    "           'KBA05_CCM1', 'KBA05_CCM2', 'KBA05_CCM3', 'KBA05_CCM4', 'KBA05_DIESEL', 'KBA05_FRAU', 'KBA05_HERST1',\n",
    "           'KBA05_HERST2', 'KBA05_HERST3', 'KBA05_HERST4', 'KBA05_HERST5', 'KBA05_HERSTTEMP', 'KBA05_KRSAQUOT',\n",
    "           'KBA05_KRSHERST1', 'KBA05_KRSHERST2', 'KBA05_KRSHERST3', 'KBA05_KRSKLEIN', 'KBA05_KRSOBER',\n",
    "           'KBA05_KRSVAN', 'KBA05_KRSZUL', 'KBA05_KW1', 'KBA05_KW2', 'KBA05_KW3', 'KBA05_MAXAH', 'KBA05_MAXHERST', \n",
    "           'KBA05_MAXSEG', 'KBA05_MAXVORB', 'KBA05_MOD1', 'KBA05_MOD2', 'KBA05_MOD3', 'KBA05_MOD4', 'KBA05_MOD8',\n",
    "           'KBA05_MODTEMP', 'KBA05_MOTOR', 'KBA05_MOTRAD', 'KBA05_SEG1', 'KBA05_SEG10', 'KBA05_SEG2', 'KBA05_SEG3', \n",
    "           'KBA05_SEG4', 'KBA05_SEG5', 'KBA05_SEG6', 'KBA05_SEG7', 'KBA05_SEG8', 'KBA05_SEG9', 'KBA05_VORB0', \n",
    "           'KBA05_VORB2', 'KBA05_ZUL1', 'KBA05_ZUL2', 'KBA05_ZUL3', 'KBA05_ZUL4', 'RELAT_AB', 'SEMIO_DOM',\n",
    "           'SEMIO_ERL', 'SEMIO_FAM', 'SEMIO_KAEM', 'SEMIO_KRIT', 'SEMIO_KULT', 'SEMIO_LUST', 'SEMIO_MAT', \n",
    "           'SEMIO_PFLICHT', 'SEMIO_RAT', 'SEMIO_REL', 'SEMIO_SOZ', 'SEMIO_TRADV', 'SEMIO_VERT', 'ZABEOTYP'}"
   ]
  },
  {
   "cell_type": "markdown",
   "metadata": {},
   "source": [
    "### 0.4 Re-encoding Categorical Values"
   ]
  },
  {
   "cell_type": "markdown",
   "metadata": {},
   "source": [
    "#### 0.4.1 Binary Categories\n",
    "\n",
    "- ANDREDE_KZ = (Already appropriate)\n",
    "- BIP_FLAG = (Already appropropriate)\n",
    "- GREEN_AVENTGARDE = (Already appropropriate)\n",
    "- KBA05_SEG6 = (Already appropriate)\n",
    "- OST_WEST_KZ = East/West Germany\n",
    "- SOHO_FLAG = (Already Appropriate)\n",
    "- VERST_TYP = (Already Appropriate)\n",
    "\n",
    "There is only one dimension we need to alter, and for that we can use a simple dictionary replace method to convert from W:E to 0:1"
   ]
  },
  {
   "cell_type": "code",
   "execution_count": 17,
   "metadata": {
    "scrolled": true
   },
   "outputs": [],
   "source": [
    "#OST_WEST_Dict = {\"O\": 0, \"W\": 1}\n",
    "#df_azdias_clean['OST_WEST_KZ'] = df_azdias_clean['OST_WEST_KZ'].map(OST_WEST_Dict)"
   ]
  },
  {
   "cell_type": "markdown",
   "metadata": {},
   "source": [
    "#### 0.4.2 Multi-Level Categories\n",
    "\n",
    "- CAMEO_DEU_2015\n",
    "- CAMEO_INTL_2015\n",
    "- PRAEGENDE_JUGENDJAHRE\n",
    "\n",
    "These will be a little bit trickier, but fortunately we have some examples we can draw on...\n",
    "\n",
    "- PRAEGENDE_JUGENDJAHRE we can define a function to isolate the Decade and Movement values in seperate columns. \n",
    "- CAMEO_INTL_2015 can be split into the Ones and Tens values, which will be done with another custom function. \n",
    "- CAMEO_DEU_2015 could be split into the relative numerical groups, however this classification would be superfluous to CAMEO_DEUG_2015.  Instead we will drop this column for now, and if we want to add it in later to help boost accuracy we will just encode dummy variables"
   ]
  },
  {
   "cell_type": "code",
   "execution_count": 18,
   "metadata": {
    "scrolled": true
   },
   "outputs": [],
   "source": [
    "#def enc_decade(x):\n",
    "\n",
    "#    decade_dict = {40: [1, 2], 50: [3, 4], 60: [5, 6, 7], 70: [8, 9], 80: [10, 11, 12, 13], 90: [14, 15]}\n",
    "#    for (key, value) in decade_dict.items():\n",
    "#        if x in value:\n",
    "#            return int(key)\n",
    "        \n",
    "#azdias['PRAEGENDE_JUGEN_MOV'] = azdias['PRAEGENDE_JUGENDJAHRE'].apply(lambda x: 1 if x in [1, 3, 5, 8, 10, 12, 14] else 0)\n",
    "#azdias['PRAEGENDE_JUGEN_DEC'] = azdias['PRAEGENDE_JUGENDJAHRE'].apply(enc_decade)"
   ]
  },
  {
   "cell_type": "code",
   "execution_count": 19,
   "metadata": {
    "scrolled": true
   },
   "outputs": [],
   "source": [
    "#azdias.loc[(azdias_test['CAMEO_INTL_2015'] == 'XX')] = -1\n",
    "\n",
    "#azdias.loc[azdias_test['CAMEO_INTL_2015'].notnull(), 'CAMEO_INTL_2015'] = azdias.loc[azdias_test['CAMEO_INTL_2015'].notnull(), 'CAMEO_INTL_2015'].apply(int)\n",
    "\n",
    "#azdias['CAMEO_INTL_2015_TEN'] = azdias['CAMEO_INTL_2015'].apply(lambda x :x//10)\n",
    "#azdias['CAMEO_INTL_2015_ONE'] = azdias['CAMEO_INTL_2015'].apply(lambda x :x%10)"
   ]
  },
  {
   "cell_type": "code",
   "execution_count": 20,
   "metadata": {
    "scrolled": true
   },
   "outputs": [],
   "source": [
    "#azdias.drop(['PRAEGENDE_JUGENDJAHRE', 'CAMEO_INTL_2015', 'CAMEO_DEU_2015'], axis='columns', inplace=True)"
   ]
  },
  {
   "cell_type": "markdown",
   "metadata": {},
   "source": [
    "### 0.5 Creating a function to clean DataFrames\n",
    "Below we simply make a function to streamline all the work from above.  Now we can simply clean the DataFrames whenever we need, and can be confident that they are all treated the same way.  "
   ]
  },
  {
   "cell_type": "code",
   "execution_count": 21,
   "metadata": {
    "scrolled": true
   },
   "outputs": [],
   "source": [
    "#azdias.columns.to_series().groupby(azdias.dtypes).groups"
   ]
  },
  {
   "cell_type": "code",
   "execution_count": 22,
   "metadata": {
    "scrolled": true
   },
   "outputs": [],
   "source": [
    "zero_list = {'ALTERSKATEGORIE_GROB', 'ANREDE_KZ', 'GEBAEUDETYP',\n",
    "           'HH_EINKOMMEN_SCORE', 'KBA05_BAUMAX', 'KBA05_GBZ', 'KKK', 'NATIONALITAET_KZ', 'PRAEGENDE_JUGENDJAHRE',\n",
    "           'REGIOTYP', 'TITEL_KZ', 'WOHNDAUER_2008', 'W_KEIT_KIND_HH'}\n",
    "nine_list = {'KBA05_ALTER1', 'KBA05_ALTER2', 'KBA05_ALTER3', 'KBA05_ALTER4', 'KBA05_ANHANG', 'KBA05_AUTOQUOT',\n",
    "           'KBA05_CCM1', 'KBA05_CCM2', 'KBA05_CCM3', 'KBA05_CCM4', 'KBA05_DIESEL', 'KBA05_FRAU', 'KBA05_HERST1',\n",
    "           'KBA05_HERST2', 'KBA05_HERST3', 'KBA05_HERST4', 'KBA05_HERST5', 'KBA05_HERSTTEMP', 'KBA05_KRSAQUOT',\n",
    "           'KBA05_KRSHERST1', 'KBA05_KRSHERST2', 'KBA05_KRSHERST3', 'KBA05_KRSKLEIN', 'KBA05_KRSOBER',\n",
    "           'KBA05_KRSVAN', 'KBA05_KRSZUL', 'KBA05_KW1', 'KBA05_KW2', 'KBA05_KW3', 'KBA05_MAXAH', 'KBA05_MAXHERST', \n",
    "           'KBA05_MAXSEG', 'KBA05_MAXVORB', 'KBA05_MOD1', 'KBA05_MOD2', 'KBA05_MOD3', 'KBA05_MOD4', 'KBA05_MOD8',\n",
    "           'KBA05_MODTEMP', 'KBA05_MOTOR', 'KBA05_MOTRAD', 'KBA05_SEG1', 'KBA05_SEG10', 'KBA05_SEG2', 'KBA05_SEG3', \n",
    "           'KBA05_SEG4', 'KBA05_SEG5', 'KBA05_SEG6', 'KBA05_SEG7', 'KBA05_SEG8', 'KBA05_SEG9', 'KBA05_VORB0', \n",
    "           'KBA05_VORB2', 'KBA05_ZUL1', 'KBA05_ZUL2', 'KBA05_ZUL3', 'KBA05_ZUL4', 'RELAT_AB', 'SEMIO_DOM',\n",
    "           'SEMIO_ERL', 'SEMIO_FAM', 'SEMIO_KAEM', 'SEMIO_KRIT', 'SEMIO_KULT', 'SEMIO_LUST', 'SEMIO_MAT', \n",
    "           'SEMIO_PFLICHT', 'SEMIO_RAT', 'SEMIO_REL', 'SEMIO_SOZ', 'SEMIO_TRADV', 'SEMIO_VERT', 'ZABEOTYP'}\n",
    "\n",
    "def enc_decade(x):\n",
    "\n",
    "    decade_dict = {40: [1, 2], 50: [3, 4], 60: [5, 6, 7], 70: [8, 9], 80: [10, 11, 12, 13], 90: [14, 15]}\n",
    "    for (key, value) in decade_dict.items():\n",
    "        if x in value:\n",
    "            return int(key)\n",
    "\n",
    "def clean_func(df):\n",
    "    OST_WEST_Dict = {\"O\": 0, \"W\": 1}\n",
    "    \n",
    "    df.drop(['ALTER_KIND1', 'ALTER_KIND2', 'ALTER_KIND3', 'ALTER_KIND4',\n",
    "       'ALTERSKATEGORIE_FEIN', 'D19_BANKEN_ONLINE_QUOTE_12',\n",
    "       'D19_GESAMT_ONLINE_QUOTE_12', 'D19_KONSUMTYP',\n",
    "       'D19_LETZTER_KAUF_BRANCHE', 'D19_LOTTO', 'D19_SOZIALES',\n",
    "       'D19_TELKO_ONLINE_QUOTE_12', 'D19_VERSAND_ONLINE_QUOTE_12',\n",
    "       'D19_VERSI_ONLINE_QUOTE_12', 'EXTSEL992', 'KK_KUNDENTYP'] , axis='columns', inplace=True)\n",
    "    \n",
    "    for i in nine_list:\n",
    "        df.loc[:, i].replace([9], [-1], inplace=True)\n",
    "    \n",
    "    for i in zero_list:\n",
    "        df.loc[:, i].replace([0], [-1], inplace=True)\n",
    "        \n",
    "    df['OST_WEST_KZ'] = df['OST_WEST_KZ'].map(OST_WEST_Dict)\n",
    "        \n",
    "    df.loc[(df['CAMEO_INTL_2015'] == 'XX')] = -1\n",
    "    df.loc[(df['CAMEO_DEUG_2015'] == 'X')] = -1\n",
    "        \n",
    "    df['PRAEGENDE_JUGEN_MOV'] = df['PRAEGENDE_JUGENDJAHRE'].apply(lambda x: 1 if x in [1, 3, 5, 8, 10, 12, 14] else 0)\n",
    "    df['PRAEGENDE_JUGEN_DEC'] = df['PRAEGENDE_JUGENDJAHRE'].apply(enc_decade)\n",
    "    \n",
    "    df.loc[df['CAMEO_INTL_2015'].notnull(), 'CAMEO_INTL_2015'] = df.loc[df['CAMEO_INTL_2015'].notnull(), 'CAMEO_INTL_2015'].apply(int)\n",
    "    df['CAMEO_INTL_2015_TEN'] = df['CAMEO_INTL_2015'].apply(lambda x :x//10)\n",
    "    df['CAMEO_INTL_2015_ONE'] = df['CAMEO_INTL_2015'].apply(lambda x :x%10)\n",
    "    \n",
    "    df.drop(['PRAEGENDE_JUGENDJAHRE', 'CAMEO_INTL_2015', 'CAMEO_DEU_2015', 'EINGEFUEGT_AM'], axis='columns', inplace=True)\n",
    " \n",
    "    df.fillna(-1)\n",
    "    \n",
    "    df.dropna(inplace=True)\n",
    "    \n",
    "    return df"
   ]
  },
  {
   "cell_type": "markdown",
   "metadata": {},
   "source": [
    "## Part 1: Customer Segmentation Report\n",
    "\n",
    "The main bulk of your analysis will come in this part of the project. Here, you should use unsupervised learning techniques to describe the relationship between the demographics of the company's existing customers and the general population of Germany. By the end of this part, you should be able to describe parts of the general population that are more likely to be part of the mail-order company's main customer base, and which parts of the general population are less so."
   ]
  },
  {
   "cell_type": "code",
   "execution_count": 23,
   "metadata": {
    "scrolled": true
   },
   "outputs": [],
   "source": [
    "azdias_clean = clean_func(azdias)\n",
    "cust_clean = clean_func(customers)"
   ]
  },
  {
   "cell_type": "code",
   "execution_count": 24,
   "metadata": {},
   "outputs": [],
   "source": [
    "cust_clean.drop(['CUSTOMER_GROUP', 'ONLINE_PURCHASE', 'PRODUCT_GROUP'], axis='columns', inplace=True)\n",
    "\n",
    "cust_clean.drop(['LNR'], axis='columns', inplace=True)\n",
    "azdias_clean.drop(['LNR'], axis='columns', inplace=True)"
   ]
  },
  {
   "cell_type": "code",
   "execution_count": 25,
   "metadata": {},
   "outputs": [],
   "source": [
    "scaler = StandardScaler()\n",
    "pca = PCA()"
   ]
  },
  {
   "cell_type": "code",
   "execution_count": 26,
   "metadata": {},
   "outputs": [],
   "source": [
    "with active_session():\n",
    "    azdias_scaled = scaler.fit_transform(azdias_clean)\n",
    "    pca.fit(azdias_scaled)"
   ]
  },
  {
   "cell_type": "code",
   "execution_count": 27,
   "metadata": {},
   "outputs": [
    {
     "data": {
      "text/plain": [
       "array([ 0.08786369,  0.1388798 ,  0.18845836,  0.22770084,  0.25167506,\n",
       "        0.27459834,  0.29523275,  0.31366112,  0.32980901,  0.3450075 ,\n",
       "        0.35902998,  0.37187473,  0.38386165,  0.39486593,  0.40500849,\n",
       "        0.41451837,  0.42374647,  0.43284457,  0.44162328,  0.44987654,\n",
       "        0.458079  ,  0.46574314,  0.4732036 ,  0.48033251,  0.48696464,\n",
       "        0.49349532,  0.49989783,  0.50622525,  0.51239784,  0.51852653,\n",
       "        0.52445375,  0.53029402,  0.53597823,  0.54151068,  0.54691731,\n",
       "        0.55221326,  0.55731143,  0.56233783,  0.5673256 ,  0.57216351,\n",
       "        0.57685598,  0.58148072,  0.58596776,  0.59038459,  0.59463743,\n",
       "        0.59882158,  0.60296174,  0.6070116 ,  0.61099502,  0.61490282,\n",
       "        0.61875407,  0.62255313,  0.62629571,  0.6300044 ,  0.6336686 ,\n",
       "        0.63725231,  0.64077894,  0.64421102,  0.64763411,  0.65096975,\n",
       "        0.65423939,  0.6574793 ,  0.66066882,  0.66383552,  0.6669644 ,\n",
       "        0.67004516,  0.67311791,  0.67616698,  0.67918445,  0.68216998,\n",
       "        0.68513565,  0.68805971,  0.69094131,  0.69380996,  0.6966773 ,\n",
       "        0.69952622,  0.70233108,  0.70513031,  0.70791338,  0.71067355,\n",
       "        0.71340197,  0.71611728,  0.71881017,  0.72149891,  0.72415745,\n",
       "        0.7267884 ,  0.72939648,  0.73199712,  0.73458878,  0.73717122,\n",
       "        0.73972336,  0.74226646,  0.74478622,  0.74730364,  0.74980502,\n",
       "        0.75230245,  0.75476173,  0.75720477,  0.7596467 ,  0.76206298,\n",
       "        0.76447216,  0.76685881,  0.76924015,  0.77161171,  0.77396293,\n",
       "        0.77630252,  0.77863274,  0.78093936,  0.78320055,  0.78545423,\n",
       "        0.78769626,  0.78992512,  0.79214082,  0.79435449,  0.79654652,\n",
       "        0.79872085,  0.8008882 ,  0.803045  ,  0.8051787 ,  0.80730982])"
      ]
     },
     "execution_count": 27,
     "metadata": {},
     "output_type": "execute_result"
    }
   ],
   "source": [
    "# Investigate the variance accounted for by each principal component.\n",
    "comp_var = pca.explained_variance_ratio_\n",
    "\n",
    "indices = np.argsort(comp_var)[::-1]\n",
    "columns = cust_clean.columns.values[indices[:120]]\n",
    "values = comp_var[indices][:120]\n",
    "\n",
    "np.cumsum(values)"
   ]
  },
  {
   "cell_type": "code",
   "execution_count": 28,
   "metadata": {},
   "outputs": [
    {
     "data": {
      "image/png": "[encoded data removed]",
      "text/plain": [
       "<matplotlib.figure.Figure at 0x7f417d865a58>"
      ]
     },
     "metadata": {
      "needs_background": "light"
     },
     "output_type": "display_data"
    }
   ],
   "source": [
    "# Investigate the variance accounted for by each principal component.\n",
    "comp_var = pca.explained_variance_ratio_\n",
    "\n",
    "indices = np.argsort(comp_var)[::-1]\n",
    "columns = cust_clean.columns.values[indices[:120]]\n",
    "values = comp_var[indices][:120]\n",
    "\n",
    "fig = plt.figure(figsize = (15,20))\n",
    "plt.barh(np.arange(120), values, height = 0.6, align = 'center', label = \"Component Weight\")\n",
    "plt.barh(np.arange(120) - 0.3, np.cumsum(values), height = 0.2, align = 'center', label = \"Cumulative Weight\")\n",
    "plt.yticks(np.arange(120), columns, wrap=0)\n",
    "plt.xlabel('Varience Explained')\n",
    "plt.ylabel('Dimension')\n",
    "plt.title('PCA Analysis - Cumulative Varience Explained')\n",
    "plt.tight_layout()\n",
    "plt.grid(True, axis = 'x')\n",
    "plt.legend(loc = 'upper center')\n",
    "plt.show()"
   ]
  },
  {
   "cell_type": "markdown",
   "metadata": {},
   "source": [
    "Based on the visual above, decide how many components to include in the pca transformation. "
   ]
  },
  {
   "cell_type": "code",
   "execution_count": 29,
   "metadata": {},
   "outputs": [],
   "source": [
    "pca_x = PCA(n_components = 120)\n",
    "azdias_pca = pca_x.fit_transform(azdias_scaled)"
   ]
  },
  {
   "cell_type": "code",
   "execution_count": 30,
   "metadata": {},
   "outputs": [
    {
     "data": {
      "text/plain": [
       "PLZ8_ANTG3             0.1304\n",
       "KBA13_ANTG3            0.1294\n",
       "KBA13_ANTG4            0.1266\n",
       "KBA13_BAUMAX           0.1262\n",
       "PLZ8_ANTG4             0.1258\n",
       "CAMEO_DEUG_2015        0.1256\n",
       "PLZ8_BAUMAX            0.1249\n",
       "HH_EINKOMMEN_SCORE     0.1243\n",
       "CAMEO_INTL_2015_TEN    0.1237\n",
       "EWDICHTE               0.1059\n",
       "KBA13_AUTOQUOTE       -0.1187\n",
       "KBA05_GBZ             -0.1232\n",
       "MOBI_RASTER           -0.1254\n",
       "KBA05_AUTOQUOT        -0.1255\n",
       "LP_STATUS_GROB        -0.1280\n",
       "KBA05_ANTG1           -0.1289\n",
       "LP_STATUS_FEIN        -0.1304\n",
       "KBA13_ANTG1           -0.1312\n",
       "PLZ8_ANTG1            -0.1319\n",
       "MOBI_REGIO            -0.1392\n",
       "Name: Dimension 1, dtype: float64"
      ]
     },
     "execution_count": 30,
     "metadata": {},
     "output_type": "execute_result"
    },
    {
     "data": {
      "image/png": "[encoded data removed]",
      "text/plain": [
       "<matplotlib.figure.Figure at 0x7f4180e48828>"
      ]
     },
     "metadata": {
      "needs_background": "light"
     },
     "output_type": "display_data"
    }
   ],
   "source": [
    "def pca_comp_analy(i, pca, full_df):\n",
    "    '''\n",
    "    Create DataFrame of PCA component 'i' explained variance \n",
    "    Visualize sorted results\n",
    "    \n",
    "    INPUT\n",
    "    i = i-th principal component to be analyzed\n",
    "    pca = pca to be analyzed\n",
    "    full_df = pre-pca dataframe\n",
    "    '''\n",
    "    \n",
    "    dimensions = ['Dimension {}'.format(e) for e in range(1,len(pca.components_)+1)]\n",
    "\n",
    "    components = pd.DataFrame(np.round(pca.components_, 4), columns = full_df.keys())\n",
    "    components.index = dimensions\n",
    "\n",
    "    sort = components.iloc[i-1,:].sort_values(ascending=False)\n",
    "    sort_max = sort.head(10)\n",
    "    sort_min = sort.tail(10)\n",
    "\n",
    "    key_comp = pd.concat((sort_max, sort_min))\n",
    "    \n",
    "    fig, ax = plt.subplots(figsize= (14,8))\n",
    "\n",
    "    key_comp.plot(ax = ax, kind = 'bar');\n",
    "    ax.set_ylabel(\"Feature Weights\")\n",
    "    \n",
    "    return key_comp\n",
    "\n",
    "\n",
    "pca_comp_analy(1, pca_x, azdias_clean)"
   ]
  },
  {
   "cell_type": "code",
   "execution_count": 31,
   "metadata": {},
   "outputs": [
    {
     "data": {
      "text/plain": [
       "PRAEGENDE_JUGEN_DEC         0.1492\n",
       "ONLINE_AFFINITAET           0.1472\n",
       "FINANZ_ANLEGER              0.1430\n",
       "FINANZ_SPARER               0.1420\n",
       "CJT_TYP_1                   0.1388\n",
       "CJT_TYP_2                   0.1344\n",
       "D19_GESAMT_ANZ_24           0.1298\n",
       "D19_GESAMT_ANZ_12           0.1219\n",
       "D19_VERSAND_ANZ_24          0.1167\n",
       "SEMIO_PFLICHT               0.1144\n",
       "VK_DHT4A                   -0.1176\n",
       "D19_GESAMT_DATUM           -0.1179\n",
       "D19_VERSAND_ONLINE_DATUM   -0.1186\n",
       "ALTERSKATEGORIE_GROB       -0.1186\n",
       "CJT_TYP_6                  -0.1202\n",
       "D19_GESAMT_ONLINE_DATUM    -0.1227\n",
       "CJT_TYP_4                  -0.1282\n",
       "CJT_TYP_5                  -0.1283\n",
       "KOMBIALTER                 -0.1367\n",
       "FINANZ_VORSORGER           -0.1369\n",
       "Name: Dimension 2, dtype: float64"
      ]
     },
     "execution_count": 31,
     "metadata": {},
     "output_type": "execute_result"
    },
    {
     "data": {
      "image/png": "[encoded data removed]",
      "text/plain": [
       "<matplotlib.figure.Figure at 0x7f4180877358>"
      ]
     },
     "metadata": {
      "needs_background": "light"
     },
     "output_type": "display_data"
    }
   ],
   "source": [
    "pca_comp_analy(2, pca_x, azdias_clean)"
   ]
  },
  {
   "cell_type": "code",
   "execution_count": 32,
   "metadata": {},
   "outputs": [
    {
     "data": {
      "text/plain": [
       "KBA13_HERST_BMW_BENZ           0.1666\n",
       "KBA13_SEG_OBEREMITTELKLASSE    0.1450\n",
       "KBA13_MERCEDES                 0.1422\n",
       "KBA13_BMW                      0.1395\n",
       "KBA13_SITZE_4                  0.1353\n",
       "KBA13_SEG_SPORTWAGEN           0.1274\n",
       "KBA13_KMH_211                  0.1127\n",
       "KBA13_SEG_OBERKLASSE           0.1108\n",
       "KBA13_KMH_250                  0.1107\n",
       "KBA13_KW_121                   0.1105\n",
       "KBA13_HERST_FORD_OPEL         -0.0927\n",
       "KBA13_HERST_ASIEN             -0.0973\n",
       "KBA13_KMH_180                 -0.1019\n",
       "CJT_TYP_3                     -0.1054\n",
       "KBA13_SEG_KOMPAKTKLASSE       -0.1057\n",
       "KBA13_HALTER_20               -0.1061\n",
       "KBA13_HALTER_25               -0.1091\n",
       "KBA13_KMH_140_210             -0.1168\n",
       "KBA13_SEG_KLEINWAGEN          -0.1186\n",
       "KBA13_SITZE_5                 -0.1391\n",
       "Name: Dimension 3, dtype: float64"
      ]
     },
     "execution_count": 32,
     "metadata": {},
     "output_type": "execute_result"
    },
    {
     "data": {
      "image/png": "[encoded data removed]",
      "text/plain": [
       "<matplotlib.figure.Figure at 0x7f417de5f780>"
      ]
     },
     "metadata": {
      "needs_background": "light"
     },
     "output_type": "display_data"
    }
   ],
   "source": [
    "pca_comp_analy(3, pca_x, azdias_clean)"
   ]
  },
  {
   "cell_type": "code",
   "execution_count": 33,
   "metadata": {},
   "outputs": [
    {
     "data": {
      "text/plain": [
       "KOMBIALTER               0.1304\n",
       "D19_GESAMT_ANZ_24        0.1170\n",
       "FINANZ_VORSORGER         0.1152\n",
       "ALTERSKATEGORIE_GROB     0.1111\n",
       "D19_VERSAND_ANZ_24       0.1102\n",
       "AGER_TYP                 0.1102\n",
       "D19_GESAMT_ANZ_12        0.1099\n",
       "CJT_TYP_5                0.1050\n",
       "EWDICHTE                 0.1023\n",
       "D19_VERSAND_ANZ_12       0.1018\n",
       "D19_KONSUMTYP_MAX       -0.1176\n",
       "CJT_TYP_1               -0.1199\n",
       "D19_GESAMT_DATUM        -0.1227\n",
       "FINANZ_UNAUFFAELLIGER   -0.1241\n",
       "PRAEGENDE_JUGEN_DEC     -0.1243\n",
       "FINANZ_SPARER           -0.1255\n",
       "RT_KEIN_ANREIZ          -0.1269\n",
       "FINANZ_ANLEGER          -0.1288\n",
       "VK_DISTANZ              -0.1333\n",
       "VK_ZG11                 -0.1379\n",
       "Name: Dimension 4, dtype: float64"
      ]
     },
     "execution_count": 33,
     "metadata": {},
     "output_type": "execute_result"
    },
    {
     "data": {
      "image/png": "[encoded data removed]",
      "text/plain": [
       "<matplotlib.figure.Figure at 0x7f417d8377b8>"
      ]
     },
     "metadata": {
      "needs_background": "light"
     },
     "output_type": "display_data"
    }
   ],
   "source": [
    "pca_comp_analy(4, pca_x, azdias_clean)"
   ]
  },
  {
   "cell_type": "code",
   "execution_count": 34,
   "metadata": {},
   "outputs": [
    {
     "data": {
      "text/plain": [
       "KBA13_KW_61_120        0.1969\n",
       "KBA13_KMH_210          0.1838\n",
       "KBA13_CCM_1401_2500    0.1580\n",
       "KBA13_VORB_0           0.1526\n",
       "KBA13_SITZE_5          0.1471\n",
       "KBA13_BJ_2006          0.1107\n",
       "KBA13_KRSZUL_NEU       0.1102\n",
       "KBA13_HALTER_25        0.1100\n",
       "KBA13_HERST_ASIEN      0.1045\n",
       "KBA13_CCM_2000         0.1000\n",
       "KBA13_CCM_1000        -0.1337\n",
       "KBA13_SITZE_4         -0.1357\n",
       "KBA13_KW_40           -0.1369\n",
       "KBA13_KMH_0_140       -0.1485\n",
       "KBA13_KMH_180         -0.1526\n",
       "KBA13_KMH_140         -0.1583\n",
       "KBA13_CCM_0_1400      -0.1616\n",
       "OST_WEST_KZ           -0.1670\n",
       "KBA13_BJ_2000         -0.1770\n",
       "KBA13_KW_0_60         -0.1998\n",
       "Name: Dimension 5, dtype: float64"
      ]
     },
     "execution_count": 34,
     "metadata": {},
     "output_type": "execute_result"
    },
    {
     "data": {
      "image/png": "[encoded data removed]",
      "text/plain": [
       "<matplotlib.figure.Figure at 0x7f417d5b8d68>"
      ]
     },
     "metadata": {
      "needs_background": "light"
     },
     "output_type": "display_data"
    }
   ],
   "source": [
    "pca_comp_analy(5, pca_x, azdias_clean)"
   ]
  },
  {
   "cell_type": "markdown",
   "metadata": {},
   "source": [
    "K-Means Clustering on Azdias\n"
   ]
  },
  {
   "cell_type": "code",
   "execution_count": 35,
   "metadata": {},
   "outputs": [
    {
     "data": {
      "text/plain": [
       "'\\nsse = []\\n\\nfor i in range(5, 20):\\n    kmeans = KMeans(n_clusters = i, random_state = 33, init = \\'k-means++\\').fit(azdias_pca)\\n    sse.append(kmeans.inertia_)\\n    \\nplt.plot(range(5, 20), sse)\\nplt.title(\"The Elbow Method\")\\nplt.show\\n'"
      ]
     },
     "execution_count": 35,
     "metadata": {},
     "output_type": "execute_result"
    }
   ],
   "source": [
    "# Over a number of different cluster counts...\n",
    "'''\n",
    "sse = []\n",
    "\n",
    "for i in range(5, 20):\n",
    "    kmeans = KMeans(n_clusters = i, random_state = 33, init = 'k-means++').fit(azdias_pca)\n",
    "    sse.append(kmeans.inertia_)\n",
    "    \n",
    "plt.plot(range(5, 20), sse)\n",
    "plt.title(\"The Elbow Method\")\n",
    "plt.show\n",
    "'''"
   ]
  },
  {
   "cell_type": "markdown",
   "metadata": {},
   "source": [
    "### *Technical Issues*\n",
    "My program is having a hard time running this function, as I'm somewhat limited for computational resources.  In an ideal world I would use the above function to determine the optimal number of clusters to use with the \"Elbow Method\".  In this case, I will simply use the same number from the project earlier in the course; 13"
   ]
  },
  {
   "cell_type": "code",
   "execution_count": 36,
   "metadata": {},
   "outputs": [],
   "source": [
    "kmeans_opt = KMeans(n_clusters = 13, random_state = 33, init = 'k-means++').fit(azdias_pca)\n",
    "azdias_clust = kmeans_opt.predict(azdias_pca)"
   ]
  },
  {
   "cell_type": "markdown",
   "metadata": {},
   "source": [
    "Apply same processing to customers dataset"
   ]
  },
  {
   "cell_type": "code",
   "execution_count": 37,
   "metadata": {},
   "outputs": [
    {
     "data": {
      "text/plain": [
       "set()"
      ]
     },
     "execution_count": 37,
     "metadata": {},
     "output_type": "execute_result"
    }
   ],
   "source": [
    "# Make sure that there are the same columns in both sets of data \n",
    "set(azdias_clean.columns) - set(cust_clean.columns)"
   ]
  },
  {
   "cell_type": "code",
   "execution_count": 38,
   "metadata": {},
   "outputs": [],
   "source": [
    "cust_scaled = scaler.transform(cust_clean)\n",
    "cust_pca = pca_x.transform(cust_scaled)\n",
    "cust_clust = kmeans_opt.predict(cust_pca)"
   ]
  },
  {
   "cell_type": "code",
   "execution_count": 39,
   "metadata": {},
   "outputs": [],
   "source": [
    "az_clust, az_count = np.unique(azdias_clust, return_counts=True)\n",
    "cust_clust, cust_count = np.unique(cust_clust, return_counts=True)\n",
    "\n",
    "az_clust_prop = az_count/len(azdias_clean)\n",
    "cust_clust_prop = cust_count/len(cust_clean)"
   ]
  },
  {
   "cell_type": "code",
   "execution_count": 40,
   "metadata": {},
   "outputs": [
    {
     "data": {
      "image/png": "[encoded data removed]",
      "text/plain": [
       "<matplotlib.figure.Figure at 0x7f417d37ff60>"
      ]
     },
     "metadata": {
      "needs_background": "light"
     },
     "output_type": "display_data"
    }
   ],
   "source": [
    "width = 0.25\n",
    "\n",
    "fig, ax = plt.subplots()\n",
    "\n",
    "r1 = np.arange(len(az_clust))\n",
    "r2 = [x + width for x in r1]\n",
    "\n",
    "rects1 = ax.bar(r1, az_clust_prop)\n",
    "rects2 = ax.bar(r2, cust_clust_prop)\n",
    "\n",
    "ax.set_xticks(az_clust)\n",
    "\n",
    "fig.tight_layout()\n",
    "\n",
    "plt.xlabel('Cluster')\n",
    "plt.ylabel('Percentage of Group')\n",
    "\n",
    "plt.show()"
   ]
  },
  {
   "cell_type": "code",
   "execution_count": 41,
   "metadata": {},
   "outputs": [
    {
     "data": {
      "text/html": [
       "<div>\n",
       "<style scoped>\n",
       "    .dataframe tbody tr th:only-of-type {\n",
       "        vertical-align: middle;\n",
       "    }\n",
       "\n",
       "    .dataframe tbody tr th {\n",
       "        vertical-align: top;\n",
       "    }\n",
       "\n",
       "    .dataframe thead th {\n",
       "        text-align: right;\n",
       "    }\n",
       "</style>\n",
       "<table border=\"1\" class=\"dataframe\">\n",
       "  <thead>\n",
       "    <tr style=\"text-align: right;\">\n",
       "      <th></th>\n",
       "      <th>0</th>\n",
       "    </tr>\n",
       "  </thead>\n",
       "  <tbody>\n",
       "    <tr>\n",
       "      <th>2</th>\n",
       "      <td>0.802728</td>\n",
       "    </tr>\n",
       "    <tr>\n",
       "      <th>12</th>\n",
       "      <td>0.713822</td>\n",
       "    </tr>\n",
       "    <tr>\n",
       "      <th>1</th>\n",
       "      <td>0.586042</td>\n",
       "    </tr>\n",
       "    <tr>\n",
       "      <th>5</th>\n",
       "      <td>0.531990</td>\n",
       "    </tr>\n",
       "    <tr>\n",
       "      <th>3</th>\n",
       "      <td>0.475623</td>\n",
       "    </tr>\n",
       "    <tr>\n",
       "      <th>10</th>\n",
       "      <td>0.268308</td>\n",
       "    </tr>\n",
       "    <tr>\n",
       "      <th>6</th>\n",
       "      <td>0.265680</td>\n",
       "    </tr>\n",
       "    <tr>\n",
       "      <th>11</th>\n",
       "      <td>0.264847</td>\n",
       "    </tr>\n",
       "    <tr>\n",
       "      <th>4</th>\n",
       "      <td>0.251317</td>\n",
       "    </tr>\n",
       "    <tr>\n",
       "      <th>9</th>\n",
       "      <td>0.241211</td>\n",
       "    </tr>\n",
       "    <tr>\n",
       "      <th>0</th>\n",
       "      <td>0.228134</td>\n",
       "    </tr>\n",
       "    <tr>\n",
       "      <th>7</th>\n",
       "      <td>0.050320</td>\n",
       "    </tr>\n",
       "    <tr>\n",
       "      <th>8</th>\n",
       "      <td>0.039278</td>\n",
       "    </tr>\n",
       "  </tbody>\n",
       "</table>\n",
       "</div>"
      ],
      "text/plain": [
       "           0\n",
       "2   0.802728\n",
       "12  0.713822\n",
       "1   0.586042\n",
       "5   0.531990\n",
       "3   0.475623\n",
       "10  0.268308\n",
       "6   0.265680\n",
       "11  0.264847\n",
       "4   0.251317\n",
       "9   0.241211\n",
       "0   0.228134\n",
       "7   0.050320\n",
       "8   0.039278"
      ]
     },
     "execution_count": 41,
     "metadata": {},
     "output_type": "execute_result"
    }
   ],
   "source": [
    "clust_ratio = cust_clust_prop / (az_clust_prop + cust_clust_prop)\n",
    "cust_prob = pd.DataFrame(clust_ratio)\n",
    "cust_prob.sort_values(0, ascending=False)"
   ]
  },
  {
   "cell_type": "markdown",
   "metadata": {},
   "source": [
    "## Part 2: Supervised Learning Model\n",
    "\n",
    "Now that you've found which parts of the population are more likely to be customers of the mail-order company, it's time to build a prediction model. Each of the rows in the \"MAILOUT\" data files represents an individual that was targeted for a mailout campaign. Ideally, we should be able to use the demographic information from each individual to decide whether or not it will be worth it to include that person in the campaign.\n",
    "\n",
    "The \"MAILOUT\" data has been split into two approximately equal parts, each with almost 43 000 data rows. In this part, you can verify your model with the \"TRAIN\" partition, which includes a column, \"RESPONSE\", that states whether or not a person became a customer of the company following the campaign. In the next part, you'll need to create predictions on the \"TEST\" partition, where the \"RESPONSE\" column has been withheld."
   ]
  },
  {
   "cell_type": "code",
   "execution_count": 42,
   "metadata": {
    "scrolled": true
   },
   "outputs": [
    {
     "name": "stderr",
     "output_type": "stream",
     "text": [
      "/opt/conda/lib/python3.6/site-packages/IPython/core/interactiveshell.py:2785: DtypeWarning: Columns (18,19) have mixed types. Specify dtype option on import or set low_memory=False.\n",
      "  interactivity=interactivity, compiler=compiler, result=result)\n"
     ]
    }
   ],
   "source": [
    "mailout_train = pd.read_csv('../../data/Term2/capstone/arvato_data/Udacity_MAILOUT_052018_TRAIN.csv', sep=';')"
   ]
  },
  {
   "cell_type": "code",
   "execution_count": 43,
   "metadata": {
    "scrolled": true
   },
   "outputs": [],
   "source": [
    "zero_list = {'ALTERSKATEGORIE_GROB', 'ANREDE_KZ', 'GEBAEUDETYP',\n",
    "           'HH_EINKOMMEN_SCORE', 'KBA05_BAUMAX', 'KBA05_GBZ', 'KKK', 'NATIONALITAET_KZ', 'PRAEGENDE_JUGENDJAHRE',\n",
    "           'REGIOTYP', 'TITEL_KZ', 'WOHNDAUER_2008', 'W_KEIT_KIND_HH'}\n",
    "nine_list = {'KBA05_ALTER1', 'KBA05_ALTER2', 'KBA05_ALTER3', 'KBA05_ALTER4', 'KBA05_ANHANG', 'KBA05_AUTOQUOT',\n",
    "           'KBA05_CCM1', 'KBA05_CCM2', 'KBA05_CCM3', 'KBA05_CCM4', 'KBA05_DIESEL', 'KBA05_FRAU', 'KBA05_HERST1',\n",
    "           'KBA05_HERST2', 'KBA05_HERST3', 'KBA05_HERST4', 'KBA05_HERST5', 'KBA05_HERSTTEMP', 'KBA05_KRSAQUOT',\n",
    "           'KBA05_KRSHERST1', 'KBA05_KRSHERST2', 'KBA05_KRSHERST3', 'KBA05_KRSKLEIN', 'KBA05_KRSOBER',\n",
    "           'KBA05_KRSVAN', 'KBA05_KRSZUL', 'KBA05_KW1', 'KBA05_KW2', 'KBA05_KW3', 'KBA05_MAXAH', 'KBA05_MAXHERST', \n",
    "           'KBA05_MAXSEG', 'KBA05_MAXVORB', 'KBA05_MOD1', 'KBA05_MOD2', 'KBA05_MOD3', 'KBA05_MOD4', 'KBA05_MOD8',\n",
    "           'KBA05_MODTEMP', 'KBA05_MOTOR', 'KBA05_MOTRAD', 'KBA05_SEG1', 'KBA05_SEG10', 'KBA05_SEG2', 'KBA05_SEG3', \n",
    "           'KBA05_SEG4', 'KBA05_SEG5', 'KBA05_SEG6', 'KBA05_SEG7', 'KBA05_SEG8', 'KBA05_SEG9', 'KBA05_VORB0', \n",
    "           'KBA05_VORB2', 'KBA05_ZUL1', 'KBA05_ZUL2', 'KBA05_ZUL3', 'KBA05_ZUL4', 'RELAT_AB', 'SEMIO_DOM',\n",
    "           'SEMIO_ERL', 'SEMIO_FAM', 'SEMIO_KAEM', 'SEMIO_KRIT', 'SEMIO_KULT', 'SEMIO_LUST', 'SEMIO_MAT', \n",
    "           'SEMIO_PFLICHT', 'SEMIO_RAT', 'SEMIO_REL', 'SEMIO_SOZ', 'SEMIO_TRADV', 'SEMIO_VERT', 'ZABEOTYP'}\n",
    "\n",
    "def enc_decade(x):\n",
    "\n",
    "    decade_dict = {40: [1, 2], 50: [3, 4], 60: [5, 6, 7], 70: [8, 9], 80: [10, 11, 12, 13], 90: [14, 15]}\n",
    "    for (key, value) in decade_dict.items():\n",
    "        if x in value:\n",
    "            return int(key)\n",
    "\n",
    "def mail_clean(df):\n",
    "    OST_WEST_Dict = {\"O\": 0, \"W\": 1}\n",
    "    \n",
    "    df.drop(['ALTER_KIND1', 'ALTER_KIND2', 'ALTER_KIND3', 'ALTER_KIND4',\n",
    "       'ALTERSKATEGORIE_FEIN', 'D19_BANKEN_ONLINE_QUOTE_12',\n",
    "       'D19_GESAMT_ONLINE_QUOTE_12', 'D19_KONSUMTYP',\n",
    "       'D19_LETZTER_KAUF_BRANCHE', 'D19_LOTTO', 'D19_SOZIALES',\n",
    "       'D19_TELKO_ONLINE_QUOTE_12', 'D19_VERSAND_ONLINE_QUOTE_12',\n",
    "       'D19_VERSI_ONLINE_QUOTE_12', 'EXTSEL992', 'KK_KUNDENTYP'] , axis='columns', inplace=True)\n",
    "    \n",
    "    for i in nine_list:\n",
    "        df.loc[:, i].replace([9], [-1], inplace=True)\n",
    "    \n",
    "    for i in zero_list:\n",
    "        df.loc[:, i].replace([0], [-1], inplace=True)\n",
    "        \n",
    "    df['RESPONSE'].replace(-1, 0)\n",
    "    \n",
    "    df['OST_WEST_KZ'] = df['OST_WEST_KZ'].map(OST_WEST_Dict)\n",
    "        \n",
    "    df.loc[(df['CAMEO_INTL_2015'] == 'XX')] = -1\n",
    "    df.loc[(df['CAMEO_DEUG_2015'] == 'X')] = -1\n",
    "        \n",
    "    df['PRAEGENDE_JUGEN_MOV'] = df['PRAEGENDE_JUGENDJAHRE'].apply(lambda x: 1 if x in [1, 3, 5, 8, 10, 12, 14] else 0)\n",
    "    df['PRAEGENDE_JUGEN_DEC'] = df['PRAEGENDE_JUGENDJAHRE'].apply(enc_decade)\n",
    "    \n",
    "    df.loc[df['CAMEO_INTL_2015'].notnull(), 'CAMEO_INTL_2015'] = df.loc[df['CAMEO_INTL_2015'].notnull(), 'CAMEO_INTL_2015'].apply(int)\n",
    "    df['CAMEO_INTL_2015_TEN'] = df['CAMEO_INTL_2015'].apply(lambda x :x//10)\n",
    "    df['CAMEO_INTL_2015_ONE'] = df['CAMEO_INTL_2015'].apply(lambda x :x%10)\n",
    "    \n",
    "    df.drop(['PRAEGENDE_JUGENDJAHRE', 'CAMEO_INTL_2015', 'CAMEO_DEU_2015', 'EINGEFUEGT_AM'], axis='columns', inplace=True)\n",
    "     \n",
    "    imputer = Imputer(missing_values='NaN', strategy='most_frequent', axis=0)\n",
    "    imputed = imputer.fit_transform(df)\n",
    "    \n",
    "    df = pd.DataFrame(imputed, columns = df.columns)\n",
    "    \n",
    "    df['RESPONSE'].replace(-1, 0, inplace=True)\n",
    "    \n",
    "    return df"
   ]
  },
  {
   "cell_type": "code",
   "execution_count": 44,
   "metadata": {},
   "outputs": [],
   "source": [
    "mail_train_clean = mail_clean(mailout_train)"
   ]
  },
  {
   "cell_type": "code",
   "execution_count": 45,
   "metadata": {},
   "outputs": [],
   "source": [
    "mail_train_y = mail_train_clean['RESPONSE']\n",
    "\n",
    "mail_train_x = mail_train_clean.copy()\n",
    "mail_train_x.drop(['LNR', 'RESPONSE'], axis='columns', inplace=True)\n",
    "mail_train_x = scaler.transform(mail_train_x)"
   ]
  },
  {
   "cell_type": "code",
   "execution_count": 46,
   "metadata": {},
   "outputs": [
    {
     "data": {
      "text/plain": [
       "(42962, 349)"
      ]
     },
     "execution_count": 46,
     "metadata": {},
     "output_type": "execute_result"
    }
   ],
   "source": [
    "mail_train_x.shape"
   ]
  },
  {
   "cell_type": "code",
   "execution_count": 47,
   "metadata": {},
   "outputs": [],
   "source": [
    "X_train, X_test, y_train, y_test = train_test_split(mail_train_x, mail_train_y, test_size = 0.2, random_state = 0)"
   ]
  },
  {
   "cell_type": "code",
   "execution_count": 49,
   "metadata": {
    "scrolled": false
   },
   "outputs": [
    {
     "name": "stdout",
     "output_type": "stream",
     "text": [
      "DecisionTreeClassifier\n",
      "Accuracy score: 0.9732340276969627\n",
      "AUC: 0.5068250088349628\n",
      "\n",
      "\n",
      "\n",
      "SVC\n",
      "Accuracy score: 0.9878971255673222\n",
      "AUC: 0.5\n",
      "\n",
      "\n",
      "\n",
      "RandomForestClassifier\n",
      "Accuracy score: 0.9878971255673222\n",
      "AUC: 0.5\n",
      "\n",
      "\n",
      "\n"
     ]
    }
   ],
   "source": [
    "with active_session():\n",
    "    # Bring in the models to be tested\n",
    "    clf_A = tree.DecisionTreeClassifier(random_state=32)\n",
    "    clf_B = svm.SVC(random_state=32)\n",
    "    clf_C = RandomForestClassifier(random_state=32)\n",
    "\n",
    "    # Collect results on the learners\n",
    "    results = {}\n",
    "    for clf in [clf_A, clf_B, clf_C]:\n",
    "        clf_name = clf.__class__.__name__\n",
    "        results[clf_name] = {}\n",
    "        clf.fit(X_train, y_train)\n",
    "        clf_pred = clf.predict(X_test)\n",
    "\n",
    "        acc = accuracy_score(y_test, clf_pred)\n",
    "        auc = roc_auc_score(y_test, clf_pred)\n",
    "\n",
    "\n",
    "        print(clf_name)\n",
    "        print('Accuracy score:', format(acc))\n",
    "        print('AUC:', format(auc))\n",
    "        print('\\n\\n')"
   ]
  },
  {
   "cell_type": "code",
   "execution_count": 50,
   "metadata": {},
   "outputs": [],
   "source": [
    "parameters = {'max_depth': [5, 10, 20], \n",
    "              'min_samples_leaf': [1, 5, 10], \n",
    "              'min_samples_split': [2, 4, 6]}\n",
    "scorer = make_scorer(roc_auc_score)\n",
    "\n",
    "grid_search = GridSearchCV(clf_A, parameters, scoring=scorer)\n",
    "\n",
    "grid_fit = grid_search.fit(X_train, y_train)"
   ]
  },
  {
   "cell_type": "code",
   "execution_count": 51,
   "metadata": {},
   "outputs": [
    {
     "data": {
      "text/plain": [
       "{'cv': None,\n",
       " 'error_score': 'raise',\n",
       " 'estimator__class_weight': None,\n",
       " 'estimator__criterion': 'gini',\n",
       " 'estimator__max_depth': None,\n",
       " 'estimator__max_features': None,\n",
       " 'estimator__max_leaf_nodes': None,\n",
       " 'estimator__min_impurity_decrease': 0.0,\n",
       " 'estimator__min_impurity_split': None,\n",
       " 'estimator__min_samples_leaf': 1,\n",
       " 'estimator__min_samples_split': 2,\n",
       " 'estimator__min_weight_fraction_leaf': 0.0,\n",
       " 'estimator__presort': False,\n",
       " 'estimator__random_state': 32,\n",
       " 'estimator__splitter': 'best',\n",
       " 'estimator': DecisionTreeClassifier(class_weight=None, criterion='gini', max_depth=None,\n",
       "             max_features=None, max_leaf_nodes=None,\n",
       "             min_impurity_decrease=0.0, min_impurity_split=None,\n",
       "             min_samples_leaf=1, min_samples_split=2,\n",
       "             min_weight_fraction_leaf=0.0, presort=False, random_state=32,\n",
       "             splitter='best'),\n",
       " 'fit_params': None,\n",
       " 'iid': True,\n",
       " 'n_jobs': 1,\n",
       " 'param_grid': {'max_depth': [5, 10, 20],\n",
       "  'min_samples_leaf': [1, 5, 10],\n",
       "  'min_samples_split': [2, 4, 6]},\n",
       " 'pre_dispatch': '2*n_jobs',\n",
       " 'refit': True,\n",
       " 'return_train_score': 'warn',\n",
       " 'scoring': make_scorer(roc_auc_score),\n",
       " 'verbose': 0}"
      ]
     },
     "execution_count": 51,
     "metadata": {},
     "output_type": "execute_result"
    }
   ],
   "source": [
    "grid_fit.get_params()"
   ]
  },
  {
   "cell_type": "code",
   "execution_count": 52,
   "metadata": {},
   "outputs": [],
   "source": [
    "best_clf = grid_fit.best_estimator_\n",
    "\n",
    "best_pred = best_clf.predict(X_test)"
   ]
  },
  {
   "cell_type": "code",
   "execution_count": 53,
   "metadata": {},
   "outputs": [
    {
     "name": "stdout",
     "output_type": "stream",
     "text": [
      "Optimized Predictions\n",
      "-------\n",
      "Accuracy score: 0.9735831490748283\n",
      "AUC: 0.507001708092826\n"
     ]
    }
   ],
   "source": [
    "b_acc = accuracy_score(y_test, best_pred)\n",
    "b_auc = roc_auc_score(y_test, best_pred)\n",
    "\n",
    "print('Optimized Predictions\\n-------')\n",
    "print('Accuracy score:', format(b_acc))\n",
    "print('AUC:', format(b_auc))"
   ]
  },
  {
   "cell_type": "markdown",
   "metadata": {},
   "source": [
    "## Part 3: Kaggle Competition\n",
    "\n",
    "Now that you've created a model to predict which individuals are most likely to respond to a mailout campaign, it's time to test that model in competition through Kaggle. If you click on the link [here](http://www.kaggle.com/t/21e6d45d4c574c7fa2d868f0e8c83140), you'll be taken to the competition page where, if you have a Kaggle account, you can enter. If you're one of the top performers, you may have the chance to be contacted by a hiring manager from Arvato or Bertelsmann for an interview!\n",
    "\n",
    "Your entry to the competition should be a CSV file with two columns. The first column should be a copy of \"LNR\", which acts as an ID number for each individual in the \"TEST\" partition. The second column, \"RESPONSE\", should be some measure of how likely each individual became a customer – this might not be a straightforward probability. As you should have found in Part 2, there is a large output class imbalance, where most individuals did not respond to the mailout. Thus, predicting individual classes and using accuracy does not seem to be an appropriate performance evaluation method. Instead, the competition will be using AUC to evaluate performance. The exact values of the \"RESPONSE\" column do not matter as much: only that the higher values try to capture as many of the actual customers as possible, early in the ROC curve sweep."
   ]
  },
  {
   "cell_type": "code",
   "execution_count": 54,
   "metadata": {
    "scrolled": true
   },
   "outputs": [
    {
     "name": "stderr",
     "output_type": "stream",
     "text": [
      "/opt/conda/lib/python3.6/site-packages/IPython/core/interactiveshell.py:2785: DtypeWarning: Columns (18,19) have mixed types. Specify dtype option on import or set low_memory=False.\n",
      "  interactivity=interactivity, compiler=compiler, result=result)\n"
     ]
    }
   ],
   "source": [
    "mailout_test = pd.read_csv('../../data/Term2/capstone/arvato_data/Udacity_MAILOUT_052018_TEST.csv', sep=';')"
   ]
  },
  {
   "cell_type": "code",
   "execution_count": 55,
   "metadata": {
    "scrolled": true
   },
   "outputs": [],
   "source": [
    "zero_list = {'ALTERSKATEGORIE_GROB', 'ANREDE_KZ', 'GEBAEUDETYP',\n",
    "           'HH_EINKOMMEN_SCORE', 'KBA05_BAUMAX', 'KBA05_GBZ', 'KKK', 'NATIONALITAET_KZ', 'PRAEGENDE_JUGENDJAHRE',\n",
    "           'REGIOTYP', 'TITEL_KZ', 'WOHNDAUER_2008', 'W_KEIT_KIND_HH'}\n",
    "nine_list = {'KBA05_ALTER1', 'KBA05_ALTER2', 'KBA05_ALTER3', 'KBA05_ALTER4', 'KBA05_ANHANG', 'KBA05_AUTOQUOT',\n",
    "           'KBA05_CCM1', 'KBA05_CCM2', 'KBA05_CCM3', 'KBA05_CCM4', 'KBA05_DIESEL', 'KBA05_FRAU', 'KBA05_HERST1',\n",
    "           'KBA05_HERST2', 'KBA05_HERST3', 'KBA05_HERST4', 'KBA05_HERST5', 'KBA05_HERSTTEMP', 'KBA05_KRSAQUOT',\n",
    "           'KBA05_KRSHERST1', 'KBA05_KRSHERST2', 'KBA05_KRSHERST3', 'KBA05_KRSKLEIN', 'KBA05_KRSOBER',\n",
    "           'KBA05_KRSVAN', 'KBA05_KRSZUL', 'KBA05_KW1', 'KBA05_KW2', 'KBA05_KW3', 'KBA05_MAXAH', 'KBA05_MAXHERST', \n",
    "           'KBA05_MAXSEG', 'KBA05_MAXVORB', 'KBA05_MOD1', 'KBA05_MOD2', 'KBA05_MOD3', 'KBA05_MOD4', 'KBA05_MOD8',\n",
    "           'KBA05_MODTEMP', 'KBA05_MOTOR', 'KBA05_MOTRAD', 'KBA05_SEG1', 'KBA05_SEG10', 'KBA05_SEG2', 'KBA05_SEG3', \n",
    "           'KBA05_SEG4', 'KBA05_SEG5', 'KBA05_SEG6', 'KBA05_SEG7', 'KBA05_SEG8', 'KBA05_SEG9', 'KBA05_VORB0', \n",
    "           'KBA05_VORB2', 'KBA05_ZUL1', 'KBA05_ZUL2', 'KBA05_ZUL3', 'KBA05_ZUL4', 'RELAT_AB', 'SEMIO_DOM',\n",
    "           'SEMIO_ERL', 'SEMIO_FAM', 'SEMIO_KAEM', 'SEMIO_KRIT', 'SEMIO_KULT', 'SEMIO_LUST', 'SEMIO_MAT', \n",
    "           'SEMIO_PFLICHT', 'SEMIO_RAT', 'SEMIO_REL', 'SEMIO_SOZ', 'SEMIO_TRADV', 'SEMIO_VERT', 'ZABEOTYP'}\n",
    "\n",
    "def enc_decade(x):\n",
    "\n",
    "    decade_dict = {40: [1, 2], 50: [3, 4], 60: [5, 6, 7], 70: [8, 9], 80: [10, 11, 12, 13], 90: [14, 15]}\n",
    "    for (key, value) in decade_dict.items():\n",
    "        if x in value:\n",
    "            return int(key)\n",
    "\n",
    "def mail_test_clean(df):\n",
    "    OST_WEST_Dict = {\"O\": 0, \"W\": 1}\n",
    "    \n",
    "    df.drop(['ALTER_KIND1', 'ALTER_KIND2', 'ALTER_KIND3', 'ALTER_KIND4',\n",
    "       'ALTERSKATEGORIE_FEIN', 'D19_BANKEN_ONLINE_QUOTE_12',\n",
    "       'D19_GESAMT_ONLINE_QUOTE_12', 'D19_KONSUMTYP',\n",
    "       'D19_LETZTER_KAUF_BRANCHE', 'D19_LOTTO', 'D19_SOZIALES',\n",
    "       'D19_TELKO_ONLINE_QUOTE_12', 'D19_VERSAND_ONLINE_QUOTE_12',\n",
    "       'D19_VERSI_ONLINE_QUOTE_12', 'EXTSEL992', 'KK_KUNDENTYP'] , axis='columns', inplace=True)\n",
    "    \n",
    "    for i in nine_list:\n",
    "        df.loc[:, i].replace([9], [-1], inplace=True)\n",
    "    \n",
    "    for i in zero_list:\n",
    "        df.loc[:, i].replace([0], [-1], inplace=True)\n",
    "    \n",
    "    df['OST_WEST_KZ'] = df['OST_WEST_KZ'].map(OST_WEST_Dict)\n",
    "        \n",
    "    df.loc[(df['CAMEO_INTL_2015'] == 'XX')] = -1\n",
    "    df.loc[(df['CAMEO_DEUG_2015'] == 'X')] = -1\n",
    "        \n",
    "    df['PRAEGENDE_JUGEN_MOV'] = df['PRAEGENDE_JUGENDJAHRE'].apply(lambda x: 1 if x in [1, 3, 5, 8, 10, 12, 14] else 0)\n",
    "    df['PRAEGENDE_JUGEN_DEC'] = df['PRAEGENDE_JUGENDJAHRE'].apply(enc_decade)\n",
    "    \n",
    "    df.loc[df['CAMEO_INTL_2015'].notnull(), 'CAMEO_INTL_2015'] = df.loc[df['CAMEO_INTL_2015'].notnull(), 'CAMEO_INTL_2015'].apply(int)\n",
    "    df['CAMEO_INTL_2015_TEN'] = df['CAMEO_INTL_2015'].apply(lambda x :x//10)\n",
    "    df['CAMEO_INTL_2015_ONE'] = df['CAMEO_INTL_2015'].apply(lambda x :x%10)\n",
    "    \n",
    "    df.drop(['PRAEGENDE_JUGENDJAHRE', 'CAMEO_INTL_2015', 'CAMEO_DEU_2015', 'EINGEFUEGT_AM'], axis='columns', inplace=True)\n",
    "     \n",
    "    imputer = Imputer(missing_values='NaN', strategy='most_frequent', axis=0)\n",
    "    imputed = imputer.fit_transform(df)\n",
    "    \n",
    "    df = pd.DataFrame(imputed, columns = df.columns)\n",
    "    \n",
    "    return df"
   ]
  },
  {
   "cell_type": "code",
   "execution_count": 56,
   "metadata": {},
   "outputs": [],
   "source": [
    "mail_test = mail_test_clean(mailout_test)"
   ]
  },
  {
   "cell_type": "code",
   "execution_count": 57,
   "metadata": {},
   "outputs": [],
   "source": [
    "mail_test_index = mailout_test.iloc[:, [0]]"
   ]
  },
  {
   "cell_type": "code",
   "execution_count": null,
   "metadata": {},
   "outputs": [],
   "source": [
    "mail_test_data = mail_test.drop(['LNR'], axis='columns',inplace=False)\n",
    "\n",
    "mail_test_x = scaler.transform(mail_test_data)"
   ]
  },
  {
   "cell_type": "code",
   "execution_count": null,
   "metadata": {},
   "outputs": [],
   "source": [
    "test_pred = best_clf.predict_proba(mail_test_x)"
   ]
  },
  {
   "cell_type": "code",
   "execution_count": null,
   "metadata": {},
   "outputs": [],
   "source": [
    "No, Yes = np.hsplit(test_pred, [1])\n",
    "print(No)\n",
    "print(Yes)"
   ]
  },
  {
   "cell_type": "code",
   "execution_count": null,
   "metadata": {},
   "outputs": [],
   "source": [
    "pd.DataFrame(mail_test_index, columns=['LNR']).to_csv('Kaggle_Index.csv')"
   ]
  },
  {
   "cell_type": "code",
   "execution_count": null,
   "metadata": {},
   "outputs": [],
   "source": [
    "Yes.shape"
   ]
  },
  {
   "cell_type": "code",
   "execution_count": null,
   "metadata": {},
   "outputs": [],
   "source": [
    "probs = np.concatenate([mail_test_index, Yes], axis=1)\n",
    "print(probs)"
   ]
  },
  {
   "cell_type": "code",
   "execution_count": null,
   "metadata": {},
   "outputs": [],
   "source": [
    "pd.DataFrame(probs, columns=['LNR', 'RESPONSE']).to_csv('Kaggle_Probabilities.csv')"
   ]
  },
  {
   "cell_type": "code",
   "execution_count": null,
   "metadata": {},
   "outputs": [],
   "source": []
  }
 ],
 "metadata": {
  "kernelspec": {
   "display_name": "Python 3",
   "language": "python",
   "name": "python3"
  },
  "language_info": {
   "codemirror_mode": {
    "name": "ipython",
    "version": 3
   },
   "file_extension": ".py",
   "mimetype": "text/x-python",
   "name": "python",
   "nbconvert_exporter": "python",
   "pygments_lexer": "ipython3",
   "version": "3.6.3"
  }
 },
 "nbformat": 4,
 "nbformat_minor": 2
}
