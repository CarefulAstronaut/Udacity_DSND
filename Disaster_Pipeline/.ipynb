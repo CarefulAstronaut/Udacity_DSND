{
 "cells": [
  {
   "cell_type": "markdown",
   "metadata": {},
   "source": [
    "# ML Pipeline Preparation\n",
    "Follow the instructions below to help you create your ML pipeline.\n",
    "### 1. Import libraries and load data from database.\n",
    "- Import Python libraries\n",
    "- Load dataset from database with [`read_sql_table`](https://pandas.pydata.org/pandas-docs/stable/generated/pandas.read_sql_table.html)\n",
    "- Define feature and target variables X and Y"
   ]
  },
  {
   "cell_type": "code",
   "execution_count": 12,
   "metadata": {},
   "outputs": [],
   "source": [
    "# import libraries\n",
    "import pandas as pd\n",
    "import sqlalchemy as sqla\n",
    "from nltk.corpus import stopwords"
   ]
  },
  {
   "cell_type": "code",
   "execution_count": 5,
   "metadata": {},
   "outputs": [],
   "source": [
    "# load data from database\n",
    "engine = sqla.create_engine('sqlite:///Disaster_Response.db')\n",
    "df = pd.read_sql_table(\"ETL_Pipe\", engine)\n",
    "X = df.iloc[:, 1]\n",
    "Y = df.iloc[:, -36:]"
   ]
  },
  {
   "cell_type": "markdown",
   "metadata": {},
   "source": [
    "### 2. Write a tokenization function to process your text data"
   ]
  },
  {
   "cell_type": "code",
   "execution_count": 6,
   "metadata": {},
   "outputs": [
    {
     "data": {
      "text/plain": [
       "0        Weather update - a cold front from Cuba that c...\n",
       "1                  Is the Hurricane over or is it not over\n",
       "2                          Looking for someone but no name\n",
       "3        UN reports Leogane 80-90 destroyed. Only Hospi...\n",
       "4        says: west side of Haiti, rest of the country ...\n",
       "5                   Information about the National Palace-\n",
       "6                           Storm at sacred heart of jesus\n",
       "7        Please, we need tents and water. We are in Sil...\n",
       "8          I would like to receive the messages, thank you\n",
       "9        I am in Croix-des-Bouquets. We have health iss...\n",
       "10       There's nothing to eat and water, we starving ...\n",
       "11       I am in Petionville. I need more information r...\n",
       "12       I am in Thomassin number 32, in the area named...\n",
       "13       Let's do it together, need food in Delma 75, i...\n",
       "14       More information on the 4636 number in order f...\n",
       "15       A Comitee in Delmas 19, Rue ( street ) Janvier...\n",
       "16       We need food and water in Klecin 12. We are dy...\n",
       "17       are you going to call me or do you want me to ...\n",
       "18          I don't understand how to use this thing 4636.\n",
       "19       I would like to know if the earthquake is over...\n",
       "20       I would like to know if one of the radio ginen...\n",
       "21                          I'm in Laplaine, I am a victim\n",
       "22       There's a lack of water in Moleya, please info...\n",
       "23       Those people who live at Sibert need food they...\n",
       "24       I want to say hello, my message is to let you ...\n",
       "25                      Can you tell me about this service\n",
       "26       People I'm at Delma 2, we don't anything what ...\n",
       "27       We are at Gressier we needs assistance right a...\n",
       "28       How can we get water and food in Fontamara 43 ...\n",
       "29       We need help. Carrefour has been forgotten com...\n",
       "                               ...                        \n",
       "26186    The ability to pick dengue from influenza is c...\n",
       "26187    A Federation chartered ship arrived from Lae w...\n",
       "26188    The result is that in Aceh province many prefa...\n",
       "26189    Otherwise, the risk is families fleeing again ...\n",
       "26190    A United Nations team from the Electoral Assis...\n",
       "26191    Senegal and Guinea-Bissau have agreed to condu...\n",
       "26192    The President said that her Government always ...\n",
       "26193    It was decided that all vehicle movement from ...\n",
       "26194    The tendency to link deforestation with large ...\n",
       "26195    Polio is a viral disease that attacks the nerv...\n",
       "26196    The new constitution declares that 'Somalia is...\n",
       "26197    We're providing clean water to people who woul...\n",
       "26198    Relief items include towels, sanitary napkins,...\n",
       "26199    In Aceh's Meulaboh town the UN refugee agency ...\n",
       "26200    WHO is recruiting a sanitary engineer / consul...\n",
       "26201    Following the severe floods which occurred ove...\n",
       "26202    The closure has stopped 169 inbound flights an...\n",
       "26203    BANGKOK, 24 January 2012 (NNT) - Prime Ministe...\n",
       "26204    Cadmium, a metallic element widely used in bat...\n",
       "26205    Epidemic surveillance: National Institute of C...\n",
       "26206    2.1 Due to sporadic skirmishes in eastern D.R....\n",
       "26207    No other army had gone to greater lengths to a...\n",
       "26208    The delivery was made in conjunction with the ...\n",
       "26209    However while ECOWAS wanted him to lead a 12-m...\n",
       "26210    Hpakant, an area rich with coveted jade stones...\n",
       "26211    The training demonstrated how to enhance micro...\n",
       "26212    A suitable candidate has been selected and OCH...\n",
       "26213    Proshika, operating in Cox's Bazar municipalit...\n",
       "26214    Some 2,000 women protesting against the conduc...\n",
       "26215    A radical shift in thinking came about as a re...\n",
       "Name: message, Length: 26216, dtype: object"
      ]
     },
     "execution_count": 6,
     "metadata": {},
     "output_type": "execute_result"
    }
   ],
   "source": [
    "X"
   ]
  },
  {
   "cell_type": "code",
   "execution_count": null,
   "metadata": {},
   "outputs": [],
   "source": [
    "words = [i for i in X if i not in stopwords.words('english')]\n",
    "print(words)"
   ]
  },
  {
   "cell_type": "code",
   "execution_count": 9,
   "metadata": {},
   "outputs": [
    {
     "ename": "SyntaxError",
     "evalue": "invalid syntax (<ipython-input-9-fdcdb5354749>, line 3)",
     "output_type": "error",
     "traceback": [
      "\u001b[1;36m  File \u001b[1;32m\"<ipython-input-9-fdcdb5354749>\"\u001b[1;36m, line \u001b[1;32m3\u001b[0m\n\u001b[1;33m    i for i in x:\u001b[0m\n\u001b[1;37m        ^\u001b[0m\n\u001b[1;31mSyntaxError\u001b[0m\u001b[1;31m:\u001b[0m invalid syntax\n"
     ]
    }
   ],
   "source": [
    "def tokenize(text):\n",
    "    text.split()\n",
    "    for i in x:\n",
    "        if i not in stopwords.words('english')"
   ]
  },
  {
   "cell_type": "markdown",
   "metadata": {},
   "source": [
    "### 3. Build a machine learning pipeline\n",
    "This machine pipeline should take in the `message` column as input and output classification results on the other 36 categories in the dataset. You may find the [MultiOutputClassifier](http://scikit-learn.org/stable/modules/generated/sklearn.multioutput.MultiOutputClassifier.html) helpful for predicting multiple target variables."
   ]
  },
  {
   "cell_type": "code",
   "execution_count": null,
   "metadata": {},
   "outputs": [],
   "source": [
    "pipeline = "
   ]
  },
  {
   "cell_type": "markdown",
   "metadata": {},
   "source": [
    "### 4. Train pipeline\n",
    "- Split data into train and test sets\n",
    "- Train pipeline"
   ]
  },
  {
   "cell_type": "code",
   "execution_count": null,
   "metadata": {},
   "outputs": [],
   "source": []
  },
  {
   "cell_type": "markdown",
   "metadata": {},
   "source": [
    "### 5. Test your model\n",
    "Report the f1 score, precision and recall for each output category of the dataset. You can do this by iterating through the columns and calling sklearn's `classification_report` on each."
   ]
  },
  {
   "cell_type": "code",
   "execution_count": null,
   "metadata": {},
   "outputs": [],
   "source": []
  },
  {
   "cell_type": "markdown",
   "metadata": {},
   "source": [
    "### 6. Improve your model\n",
    "Use grid search to find better parameters. "
   ]
  },
  {
   "cell_type": "code",
   "execution_count": null,
   "metadata": {},
   "outputs": [],
   "source": [
    "parameters = \n",
    "\n",
    "cv = "
   ]
  },
  {
   "cell_type": "markdown",
   "metadata": {},
   "source": [
    "### 7. Test your model\n",
    "Show the accuracy, precision, and recall of the tuned model.  \n",
    "\n",
    "Since this project focuses on code quality, process, and  pipelines, there is no minimum performance metric needed to pass. However, make sure to fine tune your models for accuracy, precision and recall to make your project stand out - especially for your portfolio!"
   ]
  },
  {
   "cell_type": "code",
   "execution_count": null,
   "metadata": {},
   "outputs": [],
   "source": []
  },
  {
   "cell_type": "markdown",
   "metadata": {},
   "source": [
    "### 8. Try improving your model further. Here are a few ideas:\n",
    "* try other machine learning algorithms\n",
    "* add other features besides the TF-IDF"
   ]
  },
  {
   "cell_type": "code",
   "execution_count": null,
   "metadata": {},
   "outputs": [],
   "source": []
  },
  {
   "cell_type": "markdown",
   "metadata": {},
   "source": [
    "### 9. Export your model as a pickle file"
   ]
  },
  {
   "cell_type": "code",
   "execution_count": null,
   "metadata": {},
   "outputs": [],
   "source": []
  },
  {
   "cell_type": "markdown",
   "metadata": {},
   "source": [
    "### 10. Use this notebook to complete `train.py`\n",
    "Use the template file attached in the Resources folder to write a script that runs the steps above to create a database and export a model based on a new dataset specified by the user."
   ]
  },
  {
   "cell_type": "code",
   "execution_count": null,
   "metadata": {},
   "outputs": [],
   "source": []
  }
 ],
 "metadata": {
  "kernelspec": {
   "display_name": "Python 3",
   "language": "python",
   "name": "python3"
  },
  "language_info": {
   "codemirror_mode": {
    "name": "ipython",
    "version": 3
   },
   "file_extension": ".py",
   "mimetype": "text/x-python",
   "name": "python",
   "nbconvert_exporter": "python",
   "pygments_lexer": "ipython3",
   "version": "3.7.2"
  }
 },
 "nbformat": 4,
 "nbformat_minor": 2
}
