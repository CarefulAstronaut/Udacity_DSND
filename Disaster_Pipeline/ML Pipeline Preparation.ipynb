{
 "cells": [
  {
   "cell_type": "markdown",
   "metadata": {},
   "source": [
    "# ML Pipeline Preparation\n",
    "Follow the instructions below to help you create your ML pipeline.\n",
    "### 1. Import libraries and load data from database.\n",
    "- Import Python libraries\n",
    "- Load dataset from database with [`read_sql_table`](https://pandas.pydata.org/pandas-docs/stable/generated/pandas.read_sql_table.html)\n",
    "- Define feature and target variables X and Y"
   ]
  },
  {
   "cell_type": "code",
   "execution_count": 71,
   "metadata": {},
   "outputs": [
    {
     "name": "stdout",
     "output_type": "stream",
     "text": [
      "[nltk_data] Downloading package punkt to /root/nltk_data...\n",
      "[nltk_data]   Package punkt is already up-to-date!\n",
      "[nltk_data] Downloading package stopwords to /root/nltk_data...\n",
      "[nltk_data]   Package stopwords is already up-to-date!\n",
      "[nltk_data] Downloading package wordnet to /root/nltk_data...\n",
      "[nltk_data]   Package wordnet is already up-to-date!\n"
     ]
    }
   ],
   "source": [
    "# import libraries\n",
    "import pandas as pd\n",
    "import sqlalchemy as sqla\n",
    "import re\n",
    "import nltk\n",
    "nltk.download('punkt')\n",
    "nltk.download('stopwords')\n",
    "nltk.download('wordnet')\n",
    "from nltk.stem.wordnet import WordNetLemmatizer\n",
    "from nltk.corpus import stopwords\n",
    "\n",
    "from sklearn.pipeline import Pipeline\n",
    "from sklearn.ensemble import RandomForestClassifier\n",
    "from sklearn.model_selection import train_test_split\n",
    "from sklearn.multioutput import MultiOutputClassifier\n",
    "from sklearn.feature_extraction.text import CountVectorizer, TfidfTransformer\n",
    "from sklearn.metrics import classification_report\n",
    "from sklearn.model_selection import GridSearchCV"
   ]
  },
  {
   "cell_type": "code",
   "execution_count": 12,
   "metadata": {},
   "outputs": [],
   "source": [
    "# load data from database\n",
    "engine = sqla.create_engine('sqlite:///Disaster_Response.db')\n",
    "df = pd.read_sql_table(\"ETL_Pipe\", engine)\n",
    "X = df.iloc[:, 1]\n",
    "Y = df.iloc[:, -36:]"
   ]
  },
  {
   "cell_type": "markdown",
   "metadata": {},
   "source": [
    "### 2. Write a tokenization function to process your text data"
   ]
  },
  {
   "cell_type": "code",
   "execution_count": 40,
   "metadata": {},
   "outputs": [],
   "source": [
    "def tokenize(text):\n",
    "    text = re.sub(r\"[^a-zA-Z0-9]\", \" \", text) \n",
    "    \n",
    "    tokens = nltk.word_tokenize(text)\n",
    "    lemmatizer = WordNetLemmatizer()\n",
    "    \n",
    "    clean_text = []\n",
    "    for tok in tokens:\n",
    "        clean_tok = lemmatizer.lemmatize(tok).lower().strip()\n",
    "        clean_text.append(clean_tok)\n",
    "\n",
    "    return clean_text"
   ]
  },
  {
   "cell_type": "markdown",
   "metadata": {},
   "source": [
    "### 3. Build a machine learning pipeline\n",
    "This machine pipeline should take in the `message` column as input and output classification results on the other 36 categories in the dataset. You may find the [MultiOutputClassifier](http://scikit-learn.org/stable/modules/generated/sklearn.multioutput.MultiOutputClassifier.html) helpful for predicting multiple target variables."
   ]
  },
  {
   "cell_type": "code",
   "execution_count": 47,
   "metadata": {},
   "outputs": [],
   "source": [
    "pipeline = Pipeline([\n",
    "    ('vect', CountVectorizer(tokenizer=tokenize)), \n",
    "    ('tfidf', TfidfTransformer()), \n",
    "    ('clf', MultiOutputClassifier(RandomForestClassifier()))\n",
    "])"
   ]
  },
  {
   "cell_type": "markdown",
   "metadata": {},
   "source": [
    "### 4. Train pipeline\n",
    "- Split data into train and test sets\n",
    "- Train pipeline"
   ]
  },
  {
   "cell_type": "code",
   "execution_count": 48,
   "metadata": {},
   "outputs": [
    {
     "data": {
      "text/plain": [
       "Pipeline(memory=None,\n",
       "     steps=[('vect', CountVectorizer(analyzer='word', binary=False, decode_error='strict',\n",
       "        dtype=<class 'numpy.int64'>, encoding='utf-8', input='content',\n",
       "        lowercase=True, max_df=1.0, max_features=None, min_df=1,\n",
       "        ngram_range=(1, 1), preprocessor=None, stop_words=None,\n",
       "        strip...oob_score=False, random_state=None, verbose=0,\n",
       "            warm_start=False),\n",
       "           n_jobs=1))])"
      ]
     },
     "execution_count": 48,
     "metadata": {},
     "output_type": "execute_result"
    }
   ],
   "source": [
    "X_train, X_test, y_train, y_test = train_test_split(X, Y, random_state = 22)\n",
    "\n",
    "pipeline.fit(X_train, y_train, random_state = 22)"
   ]
  },
  {
   "cell_type": "markdown",
   "metadata": {},
   "source": [
    "### 5. Test your model\n",
    "Report the f1 score, precision and recall for each output category of the dataset. You can do this by iterating through the columns and calling sklearn's `classification_report` on each."
   ]
  },
  {
   "cell_type": "code",
   "execution_count": null,
   "metadata": {},
   "outputs": [],
   "source": [
    "y_pred = pipeline.predict(X_test)"
   ]
  },
  {
   "cell_type": "code",
   "execution_count": 68,
   "metadata": {},
   "outputs": [
    {
     "name": "stdout",
     "output_type": "stream",
     "text": [
      "Scores for column: related\n",
      "\n",
      "             precision    recall  f1-score   support\n",
      "\n",
      "          0       0.62      0.36      0.46      1542\n",
      "          1       0.82      0.93      0.87      4972\n",
      "          2       0.50      0.40      0.44        40\n",
      "\n",
      "avg / total       0.77      0.79      0.77      6554\n",
      "\n",
      "Scores for column: request\n",
      "\n",
      "             precision    recall  f1-score   support\n",
      "\n",
      "          0       0.88      0.99      0.93      5423\n",
      "          1       0.85      0.37      0.52      1131\n",
      "\n",
      "avg / total       0.88      0.88      0.86      6554\n",
      "\n",
      "Scores for column: offer\n",
      "\n",
      "             precision    recall  f1-score   support\n",
      "\n",
      "          0       1.00      1.00      1.00      6531\n",
      "          1       0.00      0.00      0.00        23\n",
      "\n",
      "avg / total       0.99      1.00      0.99      6554\n",
      "\n",
      "Scores for column: aid_related\n",
      "\n",
      "             precision    recall  f1-score   support\n",
      "\n",
      "          0       0.73      0.88      0.80      3837\n",
      "          1       0.76      0.54      0.63      2717\n",
      "\n",
      "avg / total       0.74      0.74      0.73      6554\n",
      "\n",
      "Scores for column: medical_help\n",
      "\n",
      "             precision    recall  f1-score   support\n",
      "\n",
      "          0       0.93      1.00      0.96      6072\n",
      "          1       0.67      0.08      0.14       482\n",
      "\n",
      "avg / total       0.91      0.93      0.90      6554\n",
      "\n",
      "Scores for column: medical_products\n",
      "\n",
      "             precision    recall  f1-score   support\n",
      "\n",
      "          0       0.96      1.00      0.98      6237\n",
      "          1       0.77      0.15      0.24       317\n",
      "\n",
      "avg / total       0.95      0.96      0.94      6554\n",
      "\n",
      "Scores for column: search_and_rescue\n",
      "\n",
      "             precision    recall  f1-score   support\n",
      "\n",
      "          0       0.97      1.00      0.99      6362\n",
      "          1       0.60      0.05      0.09       192\n",
      "\n",
      "avg / total       0.96      0.97      0.96      6554\n",
      "\n",
      "Scores for column: security\n",
      "\n",
      "             precision    recall  f1-score   support\n",
      "\n",
      "          0       0.99      1.00      0.99      6458\n",
      "          1       0.33      0.01      0.02        96\n",
      "\n",
      "avg / total       0.98      0.99      0.98      6554\n",
      "\n",
      "Scores for column: military\n",
      "\n",
      "             precision    recall  f1-score   support\n",
      "\n",
      "          0       0.97      1.00      0.98      6341\n",
      "          1       0.47      0.04      0.08       213\n",
      "\n",
      "avg / total       0.95      0.97      0.95      6554\n",
      "\n",
      "Scores for column: child_alone\n",
      "\n",
      "             precision    recall  f1-score   support\n",
      "\n",
      "          0       1.00      1.00      1.00      6554\n",
      "\n",
      "avg / total       1.00      1.00      1.00      6554\n",
      "\n",
      "Scores for column: water\n",
      "\n",
      "             precision    recall  f1-score   support\n",
      "\n",
      "          0       0.95      1.00      0.97      6114\n",
      "          1       0.86      0.20      0.33       440\n",
      "\n",
      "avg / total       0.94      0.94      0.93      6554\n",
      "\n",
      "Scores for column: food\n",
      "\n",
      "             precision    recall  f1-score   support\n",
      "\n",
      "          0       0.94      0.99      0.96      5848\n",
      "          1       0.83      0.46      0.59       706\n",
      "\n",
      "avg / total       0.93      0.93      0.92      6554\n",
      "\n",
      "Scores for column: shelter\n",
      "\n",
      "             precision    recall  f1-score   support\n",
      "\n",
      "          0       0.93      0.99      0.96      5965\n",
      "          1       0.81      0.24      0.37       589\n",
      "\n",
      "avg / total       0.92      0.93      0.91      6554\n",
      "\n",
      "Scores for column: clothing\n",
      "\n",
      "             precision    recall  f1-score   support\n",
      "\n",
      "          0       0.99      1.00      0.99      6451\n",
      "          1       0.67      0.06      0.11       103\n",
      "\n",
      "avg / total       0.98      0.98      0.98      6554\n",
      "\n",
      "Scores for column: money\n",
      "\n",
      "             precision    recall  f1-score   support\n",
      "\n",
      "          0       0.98      1.00      0.99      6417\n",
      "          1       0.33      0.01      0.01       137\n",
      "\n",
      "avg / total       0.97      0.98      0.97      6554\n",
      "\n",
      "Scores for column: missing_people\n",
      "\n",
      "             precision    recall  f1-score   support\n",
      "\n",
      "          0       0.99      1.00      0.99      6468\n",
      "          1       0.33      0.01      0.02        86\n",
      "\n",
      "avg / total       0.98      0.99      0.98      6554\n",
      "\n",
      "Scores for column: refugees\n",
      "\n",
      "             precision    recall  f1-score   support\n",
      "\n",
      "          0       0.97      1.00      0.98      6326\n",
      "          1       0.50      0.04      0.07       228\n",
      "\n",
      "avg / total       0.95      0.97      0.95      6554\n",
      "\n",
      "Scores for column: death\n",
      "\n",
      "             precision    recall  f1-score   support\n",
      "\n",
      "          0       0.96      1.00      0.98      6270\n",
      "          1       0.94      0.17      0.29       284\n",
      "\n",
      "avg / total       0.96      0.96      0.95      6554\n",
      "\n",
      "Scores for column: other_aid\n",
      "\n",
      "             precision    recall  f1-score   support\n",
      "\n",
      "          0       0.87      1.00      0.93      5670\n",
      "          1       0.51      0.03      0.05       884\n",
      "\n",
      "avg / total       0.82      0.87      0.81      6554\n",
      "\n",
      "Scores for column: infrastructure_related\n",
      "\n",
      "             precision    recall  f1-score   support\n",
      "\n",
      "          0       0.93      1.00      0.97      6121\n",
      "          1       0.33      0.00      0.00       433\n",
      "\n",
      "avg / total       0.89      0.93      0.90      6554\n",
      "\n",
      "Scores for column: transport\n",
      "\n",
      "             precision    recall  f1-score   support\n",
      "\n",
      "          0       0.96      1.00      0.98      6254\n",
      "          1       0.50      0.04      0.07       300\n",
      "\n",
      "avg / total       0.93      0.95      0.93      6554\n",
      "\n",
      "Scores for column: buildings\n",
      "\n",
      "             precision    recall  f1-score   support\n",
      "\n",
      "          0       0.96      1.00      0.98      6243\n",
      "          1       0.72      0.08      0.15       311\n",
      "\n",
      "avg / total       0.95      0.95      0.94      6554\n",
      "\n",
      "Scores for column: electricity\n",
      "\n",
      "             precision    recall  f1-score   support\n",
      "\n",
      "          0       0.98      1.00      0.99      6441\n",
      "          1       0.62      0.09      0.16       113\n",
      "\n",
      "avg / total       0.98      0.98      0.98      6554\n",
      "\n",
      "Scores for column: tools\n",
      "\n",
      "             precision    recall  f1-score   support\n",
      "\n",
      "          0       0.99      1.00      1.00      6506\n",
      "          1       0.00      0.00      0.00        48\n",
      "\n",
      "avg / total       0.99      0.99      0.99      6554\n",
      "\n",
      "Scores for column: hospitals\n",
      "\n",
      "             precision    recall  f1-score   support\n",
      "\n",
      "          0       0.99      1.00      0.99      6480\n",
      "          1       1.00      0.01      0.03        74\n",
      "\n",
      "avg / total       0.99      0.99      0.98      6554\n",
      "\n",
      "Scores for column: shops\n",
      "\n",
      "             precision    recall  f1-score   support\n",
      "\n",
      "          0       1.00      1.00      1.00      6523\n",
      "          1       0.00      0.00      0.00        31\n",
      "\n",
      "avg / total       0.99      1.00      0.99      6554\n",
      "\n",
      "Scores for column: aid_centers\n",
      "\n",
      "             precision    recall  f1-score   support\n",
      "\n",
      "          0       0.99      1.00      0.99      6487\n",
      "          1       0.00      0.00      0.00        67\n",
      "\n",
      "avg / total       0.98      0.99      0.98      6554\n",
      "\n",
      "Scores for column: other_infrastructure\n",
      "\n",
      "             precision    recall  f1-score   support\n",
      "\n",
      "          0       0.96      1.00      0.98      6264\n",
      "          1       0.50      0.01      0.02       290\n",
      "\n",
      "avg / total       0.94      0.96      0.94      6554\n",
      "\n",
      "Scores for column: weather_related\n",
      "\n",
      "             precision    recall  f1-score   support\n",
      "\n",
      "          0       0.84      0.96      0.90      4734\n",
      "          1       0.83      0.53      0.64      1820\n",
      "\n",
      "avg / total       0.84      0.84      0.83      6554\n",
      "\n",
      "Scores for column: floods\n",
      "\n",
      "             precision    recall  f1-score   support\n",
      "\n",
      "          0       0.95      1.00      0.97      6017\n",
      "          1       0.89      0.37      0.53       537\n",
      "\n",
      "avg / total       0.94      0.94      0.93      6554\n",
      "\n",
      "Scores for column: storm\n",
      "\n",
      "             precision    recall  f1-score   support\n",
      "\n",
      "          0       0.94      0.99      0.96      5963\n",
      "          1       0.77      0.37      0.50       591\n",
      "\n",
      "avg / total       0.93      0.93      0.92      6554\n",
      "\n",
      "Scores for column: fire\n",
      "\n",
      "             precision    recall  f1-score   support\n",
      "\n",
      "          0       0.99      1.00      1.00      6495\n",
      "          1       0.50      0.03      0.06        59\n",
      "\n",
      "avg / total       0.99      0.99      0.99      6554\n",
      "\n",
      "Scores for column: earthquake\n",
      "\n",
      "             precision    recall  f1-score   support\n",
      "\n",
      "          0       0.96      0.99      0.97      5949\n",
      "          1       0.89      0.56      0.69       605\n",
      "\n",
      "avg / total       0.95      0.95      0.95      6554\n",
      "\n",
      "Scores for column: cold\n",
      "\n",
      "             precision    recall  f1-score   support\n",
      "\n",
      "          0       0.98      1.00      0.99      6418\n",
      "          1       0.81      0.12      0.22       136\n",
      "\n",
      "avg / total       0.98      0.98      0.97      6554\n",
      "\n",
      "Scores for column: other_weather\n",
      "\n",
      "             precision    recall  f1-score   support\n",
      "\n",
      "          0       0.95      1.00      0.97      6227\n",
      "          1       0.54      0.04      0.08       327\n",
      "\n",
      "avg / total       0.93      0.95      0.93      6554\n",
      "\n"
     ]
    },
    {
     "name": "stderr",
     "output_type": "stream",
     "text": [
      "/opt/conda/lib/python3.6/site-packages/sklearn/metrics/classification.py:1135: UndefinedMetricWarning: Precision and F-score are ill-defined and being set to 0.0 in labels with no predicted samples.\n",
      "  'precision', 'predicted', average, warn_for)\n"
     ]
    }
   ],
   "source": [
    "for i in range(0, 35):\n",
    "    print(\"Scores for column: %s\\n\"\n",
    "          % (y_test.columns[i]))\n",
    "    print(classification_report(y_test.iloc[:, i], y_pred[:, i]))"
   ]
  },
  {
   "cell_type": "markdown",
   "metadata": {},
   "source": [
    "### 6. Improve your model\n",
    "Use grid search to find better parameters. "
   ]
  },
  {
   "cell_type": "code",
   "execution_count": 81,
   "metadata": {},
   "outputs": [
    {
     "name": "stdout",
     "output_type": "stream",
     "text": [
      "dict_keys(['memory', 'steps', 'vect', 'tfidf', 'clf', 'vect__analyzer', 'vect__binary', 'vect__decode_error', 'vect__dtype', 'vect__encoding', 'vect__input', 'vect__lowercase', 'vect__max_df', 'vect__max_features', 'vect__min_df', 'vect__ngram_range', 'vect__preprocessor', 'vect__stop_words', 'vect__strip_accents', 'vect__token_pattern', 'vect__tokenizer', 'vect__vocabulary', 'tfidf__norm', 'tfidf__smooth_idf', 'tfidf__sublinear_tf', 'tfidf__use_idf', 'clf__estimator__bootstrap', 'clf__estimator__class_weight', 'clf__estimator__criterion', 'clf__estimator__max_depth', 'clf__estimator__max_features', 'clf__estimator__max_leaf_nodes', 'clf__estimator__min_impurity_decrease', 'clf__estimator__min_impurity_split', 'clf__estimator__min_samples_leaf', 'clf__estimator__min_samples_split', 'clf__estimator__min_weight_fraction_leaf', 'clf__estimator__n_estimators', 'clf__estimator__n_jobs', 'clf__estimator__oob_score', 'clf__estimator__random_state', 'clf__estimator__verbose', 'clf__estimator__warm_start', 'clf__estimator', 'clf__n_jobs'])\n"
     ]
    }
   ],
   "source": [
    "print(pipeline.get_params().keys())"
   ]
  },
  {
   "cell_type": "code",
   "execution_count": 82,
   "metadata": {},
   "outputs": [],
   "source": [
    "parameters = {\n",
    "    'vect__ngram_range': ((1,1), (1,2)),\n",
    "    'vect__max_df': (0.5, 0.75, 1.0), \n",
    "    'vect__max_features': (None, 5000, 10000), \n",
    "    'tfidf__use_idf': (True, False), \n",
    "    'clf__estimator__n_estimators': [50, 100, 200],\n",
    "    'clf__estimator__min_samples_split': [2, 3, 4],\n",
    "}\n",
    "\n",
    "cv = GridSearchCV(pipeline, param_grid=parameters)"
   ]
  },
  {
   "cell_type": "markdown",
   "metadata": {},
   "source": [
    "### 7. Test your model\n",
    "Show the accuracy, precision, and recall of the tuned model.  \n",
    "\n",
    "Since this project focuses on code quality, process, and  pipelines, there is no minimum performance metric needed to pass. However, make sure to fine tune your models for accuracy, precision and recall to make your project stand out - especially for your portfolio!"
   ]
  },
  {
   "cell_type": "code",
   "execution_count": null,
   "metadata": {},
   "outputs": [],
   "source": [
    "cv.fit(X_train, y_train)\n",
    "cv_pred = cv.predict(X_test)\n",
    "\n",
    "print(classification_report(y_test, cv_pred))"
   ]
  },
  {
   "cell_type": "markdown",
   "metadata": {},
   "source": [
    "### 8. Try improving your model further. Here are a few ideas:\n",
    "* try other machine learning algorithms\n",
    "* add other features besides the TF-IDF"
   ]
  },
  {
   "cell_type": "code",
   "execution_count": null,
   "metadata": {},
   "outputs": [],
   "source": []
  },
  {
   "cell_type": "markdown",
   "metadata": {},
   "source": [
    "### 9. Export your model as a pickle file"
   ]
  },
  {
   "cell_type": "code",
   "execution_count": null,
   "metadata": {},
   "outputs": [],
   "source": []
  },
  {
   "cell_type": "markdown",
   "metadata": {},
   "source": [
    "### 10. Use this notebook to complete `train.py`\n",
    "Use the template file attached in the Resources folder to write a script that runs the steps above to create a database and export a model based on a new dataset specified by the user."
   ]
  },
  {
   "cell_type": "code",
   "execution_count": null,
   "metadata": {},
   "outputs": [],
   "source": []
  }
 ],
 "metadata": {
  "kernelspec": {
   "display_name": "Python 3",
   "language": "python",
   "name": "python3"
  },
  "language_info": {
   "codemirror_mode": {
    "name": "ipython",
    "version": 3
   },
   "file_extension": ".py",
   "mimetype": "text/x-python",
   "name": "python",
   "nbconvert_exporter": "python",
   "pygments_lexer": "ipython3",
   "version": "3.6.3"
  }
 },
 "nbformat": 4,
 "nbformat_minor": 2
}
