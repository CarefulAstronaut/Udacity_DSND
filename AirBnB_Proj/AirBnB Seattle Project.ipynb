{
 "cells": [
  {
   "cell_type": "markdown",
   "metadata": {},
   "source": [
    "\n",
    "# How to Leverage Data to Improve Your AirBnB Revenue Stream\n",
    "\n",
    "## Based on Seattle AirBnB Listings \n",
    "\n",
    "Using the AirBnB listings open dataset from Kaggle, I wanted to explore a couple of questions that I would be asking myself if I were trying to start or improve my AirBnB business in the Seattle area.  Hopefully some of the none neighbourhood specific insights will also translate into other cities, but that will be the purpose of another project.  \n",
    "\n",
    "BUSINESS UNDERSTANDING:\n",
    "\n",
    "To start, we will explore some basic demographics of the listings, like what neighbourhoods can call the highest listing price? Or does it matter how many beds there are, or what type of listing it is? From there, we will move into some of the more host specific insights, like how do reviews or cancellation policies affect the overall occupancy rate of a listing?\n",
    "\n",
    "Throughout this post, I will discuss the reasons I wanted to explore certain aspects of the data along with the code used to get the answers I wanted.  I'll go through some of the business applicatios of the findings, such that an AirBnB host will be able to look objectively at their listing and improve their overall occupancy rate. \n",
    "\n",
    "##### Data Disclaimers\n",
    "\n",
    "- Although some listings have price's per week or per month, we will be looking exclusively at the per night price. \n",
    "- The Availability time frames (30/60/90/365 days) are not a perfect representation of how often a listing is rented as hosts don't necessarily have every day available.  A more accurate metric would be [Number of Bookings:Number of Listed \n",
    "Available Nights]\n",
    "\n",
    "I only used pandas, numpy and matplotlib packages for this analysis.  There is certainly opportunity for more advanced methodology to be used with this dataset, but for a baseline these worked perfectly for me. "
   ]
  },
  {
   "cell_type": "markdown",
   "metadata": {},
   "source": [
    "## Listing Demographics\n",
    "\n",
    "Before we dig into the listing specific insights, we're going to look at the different neighbourhoods and demographics of the dataset. We'll focus on the following questions:\n",
    "\n",
    "1) Average price per neighbourhood  \n",
    "2) Property/Room Type Statistics\n",
    "\n",
    "While it's difficult to change your neighbourhood, or how much of your house/apartment you can share at one time, these questions will give potential AirBnB hosts how much they could expect to list their unit for by night.  "
   ]
  },
  {
   "cell_type": "code",
   "execution_count": 3,
   "metadata": {},
   "outputs": [],
   "source": [
    "## Package and Data Imports\n",
    "\n",
    "import pandas as pd\n",
    "import matplotlib.pyplot as plt\n",
    "import numpy as np\n",
    "\n",
    "df_listings = pd.read_csv(\"listings.csv\")"
   ]
  },
  {
   "cell_type": "code",
   "execution_count": 4,
   "metadata": {},
   "outputs": [],
   "source": [
    "## A1 Section\n",
    "\n",
    "# DF Manipulation\n",
    "\n",
    "df_A = df_listings.loc[:, ['neighbourhood_group_cleansed', 'property_type', 'room_type', 'amenities', 'beds', 'price']]\n",
    "df_A['price_per_bed'] = df_A['price'] / df_A['beds']\n",
    "\n",
    "df_A1 = df_A[['neighbourhood_group_cleansed', 'beds', 'price', 'price_per_bed']]\n",
    "df_A1 = df_A1.groupby('neighbourhood_group_cleansed').mean().reset_index()\n",
    "df_A1 = df_A1.sort_values('price', ascending=False)\n",
    "A1_neighbourhoods = df_A1.neighbourhood_group_cleansed.unique()"
   ]
  },
  {
   "cell_type": "code",
   "execution_count": 5,
   "metadata": {},
   "outputs": [
    {
     "data": {
      "text/html": [
       "<div>\n",
       "<style scoped>\n",
       "    .dataframe tbody tr th:only-of-type {\n",
       "        vertical-align: middle;\n",
       "    }\n",
       "\n",
       "    .dataframe tbody tr th {\n",
       "        vertical-align: top;\n",
       "    }\n",
       "\n",
       "    .dataframe thead th {\n",
       "        text-align: right;\n",
       "    }\n",
       "</style>\n",
       "<table border=\"1\" class=\"dataframe\">\n",
       "  <thead>\n",
       "    <tr style=\"text-align: right;\">\n",
       "      <th></th>\n",
       "      <th>beds</th>\n",
       "      <th>price</th>\n",
       "      <th>price_per_bed</th>\n",
       "    </tr>\n",
       "  </thead>\n",
       "  <tbody>\n",
       "    <tr>\n",
       "      <th>count</th>\n",
       "      <td>17.000000</td>\n",
       "      <td>17.000000</td>\n",
       "      <td>17.000000</td>\n",
       "    </tr>\n",
       "    <tr>\n",
       "      <th>mean</th>\n",
       "      <td>1.693336</td>\n",
       "      <td>119.838682</td>\n",
       "      <td>77.893617</td>\n",
       "    </tr>\n",
       "    <tr>\n",
       "      <th>std</th>\n",
       "      <td>0.268011</td>\n",
       "      <td>27.847598</td>\n",
       "      <td>16.390865</td>\n",
       "    </tr>\n",
       "    <tr>\n",
       "      <th>min</th>\n",
       "      <td>1.090909</td>\n",
       "      <td>83.278481</td>\n",
       "      <td>59.542803</td>\n",
       "    </tr>\n",
       "    <tr>\n",
       "      <th>25%</th>\n",
       "      <td>1.532628</td>\n",
       "      <td>93.639344</td>\n",
       "      <td>62.294864</td>\n",
       "    </tr>\n",
       "    <tr>\n",
       "      <th>50%</th>\n",
       "      <td>1.637500</td>\n",
       "      <td>119.968514</td>\n",
       "      <td>73.265704</td>\n",
       "    </tr>\n",
       "    <tr>\n",
       "      <th>75%</th>\n",
       "      <td>1.828499</td>\n",
       "      <td>140.101124</td>\n",
       "      <td>91.282321</td>\n",
       "    </tr>\n",
       "    <tr>\n",
       "      <th>max</th>\n",
       "      <td>2.262295</td>\n",
       "      <td>177.672131</td>\n",
       "      <td>103.301539</td>\n",
       "    </tr>\n",
       "  </tbody>\n",
       "</table>\n",
       "</div>"
      ],
      "text/plain": [
       "            beds       price  price_per_bed\n",
       "count  17.000000   17.000000      17.000000\n",
       "mean    1.693336  119.838682      77.893617\n",
       "std     0.268011   27.847598      16.390865\n",
       "min     1.090909   83.278481      59.542803\n",
       "25%     1.532628   93.639344      62.294864\n",
       "50%     1.637500  119.968514      73.265704\n",
       "75%     1.828499  140.101124      91.282321\n",
       "max     2.262295  177.672131     103.301539"
      ]
     },
     "execution_count": 5,
     "metadata": {},
     "output_type": "execute_result"
    }
   ],
   "source": [
    "df_A1.describe()"
   ]
  },
  {
   "cell_type": "markdown",
   "metadata": {},
   "source": [
    "*To keep things clean, I'll be creating new DataFrames for each section and sub-question; format will be \"df_##\""
   ]
  },
  {
   "cell_type": "code",
   "execution_count": 6,
   "metadata": {},
   "outputs": [
    {
     "data": {
      "image/png": "[encoded data removed]",
      "text/plain": [
       "<Figure size 432x288 with 1 Axes>"
      ]
     },
     "metadata": {
      "needs_background": "light"
     },
     "output_type": "display_data"
    }
   ],
   "source": [
    "# Chart Building\n",
    "barWidth = 0.4\n",
    "\n",
    "bars1 = df_A1.price\n",
    "bars2 = df_A1.price_per_bed\n",
    "\n",
    "r1 = np.arange(len(bars1))\n",
    "r2 = [x + barWidth for x in r1]\n",
    "\n",
    "plt.bar(r1, bars1, width=barWidth, edgecolor='white', label='Avg. Listing Price')\n",
    "plt.bar(r2, bars2, width=barWidth, edgecolor='white', label='Avg. Bed per Listing')\n",
    "\n",
    "plt.xlabel('Neighbourhood', fontweight='bold')\n",
    "plt.xticks([r + (barWidth/2) for r in range(len(bars1))], A1_neighbourhoods, rotation='vertical')\n",
    "\n",
    "plt.title('Avg Listing Price Metrics by Neighbourhood')\n",
    "plt.legend()\n",
    "\n",
    "plt.show()"
   ]
  },
  {
   "cell_type": "markdown",
   "metadata": {},
   "source": [
    "#### Discussion: Average Price per Neighbourhood\n",
    "\n",
    "Pretty clear cut rankings on which neighbourhoods are worth the most to an AirBnB host: \n",
    "\n",
    "1) Magnolia\n",
    "2) Queen Anne\n",
    "3) Downtown\n",
    "4) West Seattle\n",
    "5) Cascade\n",
    "\n",
    "These neighbourhoods can offer the most revenue from a total listing perspective, but interestingly the relationship doesn't follow if you look at price per bed.  Downtown, Cascade and Interbay all have roughly the same price per bed, meaning if you have a larger house/apartment in those areas you may have a potentially lucrative spot.  \n",
    "\n",
    "Another interesting thing to note is that Interbay neighbourhood has the lowest \"Listing Price:Price per Bed\" ratio, meaning that it is almost exclusively 1 bedroom listings in the area.  \n"
   ]
  },
  {
   "cell_type": "code",
   "execution_count": 7,
   "metadata": {},
   "outputs": [],
   "source": [
    "## A2 Section\n",
    "\n",
    "# Lists\n",
    "roomtype = ['Entire Home/Apt', 'Private Room', 'Shared Room']\n",
    "nbh = ['Magnolia', 'Queen Anne', 'Downtown', 'West Seattle', 'Cascade']\n",
    "A2_results = []\n",
    "\n",
    "#DF Manipulation\n",
    "df_A2 = df_A[['neighbourhood_group_cleansed', 'room_type', 'price', 'price_per_bed']]\n",
    "df_A2.set_index('neighbourhood_group_cleansed', inplace = True)\n",
    "df_A2.loc[['Magnolia', 'Queen Anne', 'Downtown', 'West Seattle', 'Cascade']]\n",
    "\n",
    "for i in (nbh): \n",
    "    #print(df_A2.loc[i].groupby('room_type').mean())\n",
    "    A2_results.append(df_A2.loc[i].groupby('room_type').mean())"
   ]
  },
  {
   "cell_type": "code",
   "execution_count": 8,
   "metadata": {},
   "outputs": [
    {
     "data": {
      "text/html": [
       "<div>\n",
       "<style scoped>\n",
       "    .dataframe tbody tr th:only-of-type {\n",
       "        vertical-align: middle;\n",
       "    }\n",
       "\n",
       "    .dataframe tbody tr th {\n",
       "        vertical-align: top;\n",
       "    }\n",
       "\n",
       "    .dataframe thead th {\n",
       "        text-align: right;\n",
       "    }\n",
       "</style>\n",
       "<table border=\"1\" class=\"dataframe\">\n",
       "  <thead>\n",
       "    <tr style=\"text-align: right;\">\n",
       "      <th></th>\n",
       "      <th>price</th>\n",
       "      <th>price_per_bed</th>\n",
       "    </tr>\n",
       "  </thead>\n",
       "  <tbody>\n",
       "    <tr>\n",
       "      <th>count</th>\n",
       "      <td>3818.000000</td>\n",
       "      <td>3817.000000</td>\n",
       "    </tr>\n",
       "    <tr>\n",
       "      <th>mean</th>\n",
       "      <td>127.976166</td>\n",
       "      <td>81.543773</td>\n",
       "    </tr>\n",
       "    <tr>\n",
       "      <th>std</th>\n",
       "      <td>90.250022</td>\n",
       "      <td>45.355097</td>\n",
       "    </tr>\n",
       "    <tr>\n",
       "      <th>min</th>\n",
       "      <td>20.000000</td>\n",
       "      <td>4.750000</td>\n",
       "    </tr>\n",
       "    <tr>\n",
       "      <th>25%</th>\n",
       "      <td>75.000000</td>\n",
       "      <td>50.000000</td>\n",
       "    </tr>\n",
       "    <tr>\n",
       "      <th>50%</th>\n",
       "      <td>100.000000</td>\n",
       "      <td>72.500000</td>\n",
       "    </tr>\n",
       "    <tr>\n",
       "      <th>75%</th>\n",
       "      <td>150.000000</td>\n",
       "      <td>100.000000</td>\n",
       "    </tr>\n",
       "    <tr>\n",
       "      <th>max</th>\n",
       "      <td>1000.000000</td>\n",
       "      <td>999.000000</td>\n",
       "    </tr>\n",
       "  </tbody>\n",
       "</table>\n",
       "</div>"
      ],
      "text/plain": [
       "             price  price_per_bed\n",
       "count  3818.000000    3817.000000\n",
       "mean    127.976166      81.543773\n",
       "std      90.250022      45.355097\n",
       "min      20.000000       4.750000\n",
       "25%      75.000000      50.000000\n",
       "50%     100.000000      72.500000\n",
       "75%     150.000000     100.000000\n",
       "max    1000.000000     999.000000"
      ]
     },
     "execution_count": 8,
     "metadata": {},
     "output_type": "execute_result"
    }
   ],
   "source": [
    "df_A2.describe()"
   ]
  },
  {
   "cell_type": "code",
   "execution_count": 11,
   "metadata": {},
   "outputs": [
    {
     "data": {
      "image/png": "[encoded data removed]",
      "text/plain": [
       "<Figure size 432x288 with 1 Axes>"
      ]
     },
     "metadata": {
      "needs_background": "light"
     },
     "output_type": "display_data"
    },
    {
     "data": {
      "image/png": "[encoded data removed]",
      "text/plain": [
       "<Figure size 432x288 with 1 Axes>"
      ]
     },
     "metadata": {
      "needs_background": "light"
     },
     "output_type": "display_data"
    },
    {
     "data": {
      "image/png": "[encoded data removed]",
      "text/plain": [
       "<Figure size 432x288 with 1 Axes>"
      ]
     },
     "metadata": {
      "needs_background": "light"
     },
     "output_type": "display_data"
    },
    {
     "data": {
      "image/png": "[encoded data removed]",
      "text/plain": [
       "<Figure size 432x288 with 1 Axes>"
      ]
     },
     "metadata": {
      "needs_background": "light"
     },
     "output_type": "display_data"
    },
    {
     "data": {
      "image/png": "[encoded data removed]",
      "text/plain": [
       "<Figure size 432x288 with 1 Axes>"
      ]
     },
     "metadata": {
      "needs_background": "light"
     },
     "output_type": "display_data"
    }
   ],
   "source": [
    "# Chart Building\n",
    "for i, t in zip(range(5), nbh):\n",
    "\n",
    "    bars1 = A2_results[i].iloc[:, 0]\n",
    "    bars2 = A2_results[i].iloc[:, 1]\n",
    "    \n",
    "    r1 = np.arange(len(bars1))\n",
    "    r2 = [x + barWidth for x in r1]\n",
    "\n",
    "    plt.bar(r1, bars1, width=barWidth, edgecolor='white', label='Avg. Listing Price')\n",
    "    plt.bar(r2, bars2, width=barWidth, edgecolor='white', label='Avg. Price per Bed')\n",
    "\n",
    "    plt.xlabel('Room Type', fontweight='bold')\n",
    "    plt.xticks([r + (barWidth/2) for r in range(len(bars1))], roomtype)\n",
    "    \n",
    "    plt.title(t)\n",
    "    plt.legend()\n",
    "    \n",
    "    plt.show()"
   ]
  },
  {
   "cell_type": "markdown",
   "metadata": {},
   "source": [
    "#### Discussion: Property and Room Type Statistics\n",
    "\n",
    "In hindsight, this seems pretty obvious: Private Rooms and Shared Rooms will almost exclusively have 1 bed, making the Listing Price and Price per Bed roughly the same.  What this does offer, though, is a deeper look at the Entire Home/Apt listing type. \n",
    "\n",
    "It appears the largest houses (in terms of beds per unit) are coming from Magnolia and West Seattle, where there is at least a 2x difference between Listing Price and Price per Bed.  Interestingly, while these neighbourhoods offer the highest revenue potential for an entire house, they have some of the lowest Private Room and Shared Room listing prices, meaning hosts that are willing to offer their entire house are more likely to have a higher revenue stream. "
   ]
  },
  {
   "cell_type": "markdown",
   "metadata": {},
   "source": [
    "## \"Pipeline\" Improvements: How to Increase Chances of Getting Bookings\n",
    "\n",
    "I wanted to explore some of the attributes a host would have more control over (cancellation policy and number of reviews) and how those attributes affect the pipeline of a listing.  \n",
    "\n",
    "Pipeline here refers to how many nights are coming up in the next 30/60/90 days that you have a booking for.  When starting out as an AirBnB host, it may be difficult to know how many nights to expect, but over time you may hope to a better understanding of how many bookings are coming your way.  That means less worry for you as a host, and more revenue coming through your listing.  \n",
    "\n",
    "Two main issues come up when doing this type of analysis with the AirBnB data:\n",
    "\n",
    "1) The availability data only looks at how many nights are available to be booked in the next 30 days.  This could be as a result of already being booked (our null hypothesis) OR it could just be that the host has decided to not offer than night as bookable.  Not everyone is using AirBnB full time, and may only list their house when they go on vacation or for part of the week.  For this analysis, I assumed that it is the former, but it would be interesting to look at how many nights are booked compared to how many were offered as a better metric here. \n",
    "\n",
    "2) The calendar availabilty metrics aren't up to date for every listing; Some haven't been updated in a number of weeks! This presents an issue of null data, as a 6 week old calendar is going to say that everything in the next 30 days if available.  To counter this, I only looked at the listings where the availability calendar was updated within the last week; that filter still gave us ~50% of the total listings.  \n",
    "\n",
    "\n",
    "First we'll look at the number of reviews a listing has, and if that has any affect on the occupancy pipeline. Then we'll look at the cancellation policy and if that makes users less likely to book further in advance. "
   ]
  },
  {
   "cell_type": "code",
   "execution_count": 10,
   "metadata": {},
   "outputs": [],
   "source": [
    "## B2 Section\n",
    "\n",
    "# DF Manipulation\n",
    "df_B = df_listings.loc[:, ['calendar_updated', 'availability_30', 'availability_60', 'availability_90', 'availability_365',\n",
    "                     'number_of_reviews', 'cancellation_policy']]\n",
    "\n",
    "# Isolating Listings that have availability calendars updated within the last week\n",
    "df_B.calendar_updated.unique()\n",
    "B_list1 = ['never', 'today', 'yesterday', '2 days ago', '3 days ago', '4 days ago', '5 days ago', \n",
    "            '6 days ago', 'a week ago', '1 week ago', '2 weeks ago', '3 weeks ago', '4 weeks ago', \n",
    "            '5 weeks ago', '6 weeks ago', '7 weeks ago', '2 months ago', '3 months ago', '4 months ago', \n",
    "            '5 months ago', '6 months ago', '7 months ago', '8 months ago', '9 months ago', '10 months ago', \n",
    "            '11 months ago', '12 months ago', '13 months ago', '14 months ago', '15 months ago', '16 months ago', \n",
    "            '17 months ago', '22 months ago', '30 months ago']\n",
    "B_list2 = list(range(-1, 33))\n",
    "B_dict = dict(zip(B_list1, B_list2))\n",
    "df_B.replace({\"calendar_updated\": B_dict}, inplace=True)\n",
    "df_B = df_B.loc[(df_B['calendar_updated'] >= 0) & (df_B['calendar_updated'] <= 7)]\n",
    "df_B = df_B.loc[(df_B['number_of_reviews'] > 0)]\n",
    "\n",
    "df_B = df_B.sort_values('number_of_reviews', ascending=False)\n",
    "\n",
    "# Determine Occupancy Rates for each time period\n",
    "df_B['Occ_Rate_30'] = 1 - (df_B['availability_30'] / 30)\n",
    "df_B['Occ_Rate_60'] = 1 - (df_B['availability_60'] / 60)\n",
    "df_B['Occ_Rate_90'] = 1 - (df_B['availability_90'] / 90)\n",
    "df_B['Occ_Rate_365'] = 1 - (df_B['availability_365'] / 365)\n",
    "\n",
    "# Group Occupanacy Rates by # of Reviews Buckets\n",
    "bucket = np.array([0, 1, 5, 10, 25, 50 , 75, 100, 125, 150, 200, 250, 300, 400, 500])\n",
    "df_B1 = df_B.copy()\n",
    "df_B1['review_bucket'] = pd.cut(df_B1.number_of_reviews, bins=bucket)\n",
    "df_B1.drop(['calendar_updated', 'availability_30', 'availability_60', 'availability_90', \n",
    "            'availability_365', 'cancellation_policy', 'number_of_reviews'], axis='columns', inplace=True)\n",
    "df_B1 = df_B1.groupby('review_bucket').mean().reset_index()"
   ]
  },
  {
   "cell_type": "markdown",
   "metadata": {},
   "source": [
    "*There is some additional maniuplation that has to happen in the above cell to make the model work. \n",
    "\n",
    "1) I convert the categorical \"calendar_update\" value from text to numerical with a dictionary.  This not only let's me filter the dimension better, but also creates a chronological sorting logic. \n",
    "\n",
    "2) I need to bucket listings by the number of reviews they have.  This cleans up the output and groups listings into smaller buckets.  "
   ]
  },
  {
   "cell_type": "code",
   "execution_count": 18,
   "metadata": {},
   "outputs": [
    {
     "data": {
      "text/html": [
       "<div>\n",
       "<style scoped>\n",
       "    .dataframe tbody tr th:only-of-type {\n",
       "        vertical-align: middle;\n",
       "    }\n",
       "\n",
       "    .dataframe tbody tr th {\n",
       "        vertical-align: top;\n",
       "    }\n",
       "\n",
       "    .dataframe thead th {\n",
       "        text-align: right;\n",
       "    }\n",
       "</style>\n",
       "<table border=\"1\" class=\"dataframe\">\n",
       "  <thead>\n",
       "    <tr style=\"text-align: right;\">\n",
       "      <th></th>\n",
       "      <th>review_bucket</th>\n",
       "      <th>Occ_Rate_30</th>\n",
       "      <th>Occ_Rate_60</th>\n",
       "      <th>Occ_Rate_90</th>\n",
       "      <th>Occ_Rate_365</th>\n",
       "    </tr>\n",
       "  </thead>\n",
       "  <tbody>\n",
       "    <tr>\n",
       "      <th>0</th>\n",
       "      <td>(0, 1]</td>\n",
       "      <td>0.449074</td>\n",
       "      <td>0.405864</td>\n",
       "      <td>0.393107</td>\n",
       "      <td>0.424734</td>\n",
       "    </tr>\n",
       "    <tr>\n",
       "      <th>1</th>\n",
       "      <td>(1, 5]</td>\n",
       "      <td>0.444361</td>\n",
       "      <td>0.393672</td>\n",
       "      <td>0.358939</td>\n",
       "      <td>0.370522</td>\n",
       "    </tr>\n",
       "    <tr>\n",
       "      <th>2</th>\n",
       "      <td>(5, 10]</td>\n",
       "      <td>0.450441</td>\n",
       "      <td>0.378395</td>\n",
       "      <td>0.337978</td>\n",
       "      <td>0.299051</td>\n",
       "    </tr>\n",
       "    <tr>\n",
       "      <th>3</th>\n",
       "      <td>(10, 25]</td>\n",
       "      <td>0.409222</td>\n",
       "      <td>0.331176</td>\n",
       "      <td>0.292752</td>\n",
       "      <td>0.325409</td>\n",
       "    </tr>\n",
       "    <tr>\n",
       "      <th>4</th>\n",
       "      <td>(25, 50]</td>\n",
       "      <td>0.390856</td>\n",
       "      <td>0.318519</td>\n",
       "      <td>0.274769</td>\n",
       "      <td>0.336206</td>\n",
       "    </tr>\n",
       "    <tr>\n",
       "      <th>5</th>\n",
       "      <td>(50, 75]</td>\n",
       "      <td>0.382968</td>\n",
       "      <td>0.298905</td>\n",
       "      <td>0.269505</td>\n",
       "      <td>0.287151</td>\n",
       "    </tr>\n",
       "    <tr>\n",
       "      <th>6</th>\n",
       "      <td>(75, 100]</td>\n",
       "      <td>0.441212</td>\n",
       "      <td>0.383939</td>\n",
       "      <td>0.341010</td>\n",
       "      <td>0.293051</td>\n",
       "    </tr>\n",
       "    <tr>\n",
       "      <th>7</th>\n",
       "      <td>(100, 125]</td>\n",
       "      <td>0.405983</td>\n",
       "      <td>0.332479</td>\n",
       "      <td>0.291168</td>\n",
       "      <td>0.350334</td>\n",
       "    </tr>\n",
       "    <tr>\n",
       "      <th>8</th>\n",
       "      <td>(125, 150]</td>\n",
       "      <td>0.421667</td>\n",
       "      <td>0.323333</td>\n",
       "      <td>0.262222</td>\n",
       "      <td>0.239863</td>\n",
       "    </tr>\n",
       "    <tr>\n",
       "      <th>9</th>\n",
       "      <td>(150, 200]</td>\n",
       "      <td>0.358667</td>\n",
       "      <td>0.316667</td>\n",
       "      <td>0.325778</td>\n",
       "      <td>0.244384</td>\n",
       "    </tr>\n",
       "    <tr>\n",
       "      <th>10</th>\n",
       "      <td>(200, 250]</td>\n",
       "      <td>0.261111</td>\n",
       "      <td>0.202778</td>\n",
       "      <td>0.181481</td>\n",
       "      <td>0.315525</td>\n",
       "    </tr>\n",
       "    <tr>\n",
       "      <th>11</th>\n",
       "      <td>(250, 300]</td>\n",
       "      <td>0.306667</td>\n",
       "      <td>0.460000</td>\n",
       "      <td>0.528889</td>\n",
       "      <td>0.534247</td>\n",
       "    </tr>\n",
       "    <tr>\n",
       "      <th>12</th>\n",
       "      <td>(300, 400]</td>\n",
       "      <td>0.450000</td>\n",
       "      <td>0.308333</td>\n",
       "      <td>0.361111</td>\n",
       "      <td>0.143836</td>\n",
       "    </tr>\n",
       "    <tr>\n",
       "      <th>13</th>\n",
       "      <td>(400, 500]</td>\n",
       "      <td>0.616667</td>\n",
       "      <td>0.375000</td>\n",
       "      <td>0.300000</td>\n",
       "      <td>0.094521</td>\n",
       "    </tr>\n",
       "  </tbody>\n",
       "</table>\n",
       "</div>"
      ],
      "text/plain": [
       "   review_bucket  Occ_Rate_30  Occ_Rate_60  Occ_Rate_90  Occ_Rate_365\n",
       "0         (0, 1]     0.449074     0.405864     0.393107      0.424734\n",
       "1         (1, 5]     0.444361     0.393672     0.358939      0.370522\n",
       "2        (5, 10]     0.450441     0.378395     0.337978      0.299051\n",
       "3       (10, 25]     0.409222     0.331176     0.292752      0.325409\n",
       "4       (25, 50]     0.390856     0.318519     0.274769      0.336206\n",
       "5       (50, 75]     0.382968     0.298905     0.269505      0.287151\n",
       "6      (75, 100]     0.441212     0.383939     0.341010      0.293051\n",
       "7     (100, 125]     0.405983     0.332479     0.291168      0.350334\n",
       "8     (125, 150]     0.421667     0.323333     0.262222      0.239863\n",
       "9     (150, 200]     0.358667     0.316667     0.325778      0.244384\n",
       "10    (200, 250]     0.261111     0.202778     0.181481      0.315525\n",
       "11    (250, 300]     0.306667     0.460000     0.528889      0.534247\n",
       "12    (300, 400]     0.450000     0.308333     0.361111      0.143836\n",
       "13    (400, 500]     0.616667     0.375000     0.300000      0.094521"
      ]
     },
     "execution_count": 18,
     "metadata": {},
     "output_type": "execute_result"
    }
   ],
   "source": [
    "df_B1.head(15)"
   ]
  },
  {
   "cell_type": "code",
   "execution_count": 13,
   "metadata": {},
   "outputs": [
    {
     "data": {
      "image/png": "[encoded data removed]",
      "text/plain": [
       "<Figure size 432x288 with 1 Axes>"
      ]
     },
     "metadata": {
      "needs_background": "light"
     },
     "output_type": "display_data"
    }
   ],
   "source": [
    "# Chart Building\n",
    "plt.plot(bucket[0:14], df_B1['Occ_Rate_30'], color='b')\n",
    "plt.plot(bucket[0:14], df_B1['Occ_Rate_60'], color='g')\n",
    "plt.plot(bucket[0:14], df_B1['Occ_Rate_90'], color='r')\n",
    "plt.plot(bucket[0:14], df_B1['Occ_Rate_365'], color='c')\n",
    "\n",
    "plt.xlabel(\"Number of Reviews\")\n",
    "plt.ylabel(\"Percent Occupancy Rate\")\n",
    "\n",
    "plt.title('Occupancy Rates by Number of Listing Reviews')\n",
    "plt.legend()\n",
    "\n",
    "plt.show()"
   ]
  },
  {
   "cell_type": "markdown",
   "metadata": {},
   "source": [
    "#### Discussion: Occupany Rates by Number of Listing Reviews\n",
    "\n",
    "I honestly thought there would be more of a correlation here between the 2 variables - I thought having more reviews would lead to having a better pipeline.  It seems there is an outlier from the \"U\" shape around the 250 review mark, which may end up being a single awesome unit that was featured at one point or another.  \n",
    "\n",
    "What is interesting to me though is that the 4 lines follow roughly the same pattern AND almost always have a higher occupancy rate for the shorter timeframes.  This makes ense to me as people would have last minute bookings or spur of the moment trips that they may not plan for 90 days in advance.  \n",
    "\n",
    "It runs counter to my assumption that more reviews returns better occupancy rates, when in fact the graph shows that until a certain point it seems more reviews lead to LESS bookings.  It may be that there is a relationship between number of reviews and inflated listing prices, which could drop appeal to a potential renter.  I could also incorporate the average score of the reviews and take that variable into consideration.  This could be a focus of a follow up investigation.  "
   ]
  },
  {
   "cell_type": "code",
   "execution_count": 14,
   "metadata": {},
   "outputs": [],
   "source": [
    "## B3 Section\n",
    "\n",
    "# DF Manipulation\n",
    "df_B2 = df_B.copy()\n",
    "df_B2.drop(['calendar_updated', 'availability_30', 'availability_60', 'availability_90', \n",
    "            'availability_365', 'number_of_reviews'], axis='columns', inplace=True)\n",
    "df_B2 = df_B2.groupby('cancellation_policy').mean().reset_index()\n",
    "B2_policy = df_B2.cancellation_policy.unique()"
   ]
  },
  {
   "cell_type": "code",
   "execution_count": 17,
   "metadata": {},
   "outputs": [
    {
     "data": {
      "text/html": [
       "<div>\n",
       "<style scoped>\n",
       "    .dataframe tbody tr th:only-of-type {\n",
       "        vertical-align: middle;\n",
       "    }\n",
       "\n",
       "    .dataframe tbody tr th {\n",
       "        vertical-align: top;\n",
       "    }\n",
       "\n",
       "    .dataframe thead th {\n",
       "        text-align: right;\n",
       "    }\n",
       "</style>\n",
       "<table border=\"1\" class=\"dataframe\">\n",
       "  <thead>\n",
       "    <tr style=\"text-align: right;\">\n",
       "      <th></th>\n",
       "      <th>cancellation_policy</th>\n",
       "      <th>Occ_Rate_30</th>\n",
       "      <th>Occ_Rate_60</th>\n",
       "      <th>Occ_Rate_90</th>\n",
       "      <th>Occ_Rate_365</th>\n",
       "    </tr>\n",
       "  </thead>\n",
       "  <tbody>\n",
       "    <tr>\n",
       "      <th>0</th>\n",
       "      <td>flexible</td>\n",
       "      <td>0.470833</td>\n",
       "      <td>0.399775</td>\n",
       "      <td>0.363851</td>\n",
       "      <td>0.339374</td>\n",
       "    </tr>\n",
       "    <tr>\n",
       "      <th>1</th>\n",
       "      <td>moderate</td>\n",
       "      <td>0.429814</td>\n",
       "      <td>0.357337</td>\n",
       "      <td>0.318127</td>\n",
       "      <td>0.344938</td>\n",
       "    </tr>\n",
       "    <tr>\n",
       "      <th>2</th>\n",
       "      <td>strict</td>\n",
       "      <td>0.387127</td>\n",
       "      <td>0.323668</td>\n",
       "      <td>0.290470</td>\n",
       "      <td>0.321740</td>\n",
       "    </tr>\n",
       "  </tbody>\n",
       "</table>\n",
       "</div>"
      ],
      "text/plain": [
       "  cancellation_policy  Occ_Rate_30  Occ_Rate_60  Occ_Rate_90  Occ_Rate_365\n",
       "0            flexible     0.470833     0.399775     0.363851      0.339374\n",
       "1            moderate     0.429814     0.357337     0.318127      0.344938\n",
       "2              strict     0.387127     0.323668     0.290470      0.321740"
      ]
     },
     "execution_count": 17,
     "metadata": {},
     "output_type": "execute_result"
    }
   ],
   "source": [
    "df_B2.head()"
   ]
  },
  {
   "cell_type": "code",
   "execution_count": 29,
   "metadata": {},
   "outputs": [
    {
     "data": {
      "image/png": "[encoded data removed]",
      "text/plain": [
       "<Figure size 432x288 with 1 Axes>"
      ]
     },
     "metadata": {
      "needs_background": "light"
     },
     "output_type": "display_data"
    }
   ],
   "source": [
    "# Chart Building\n",
    "barWidth = 0.25\n",
    "\n",
    "bars1 = df_B2.Occ_Rate_60\n",
    "bars2 = df_B2.Occ_Rate_90\n",
    "bars3 = df_B2.Occ_Rate_30\n",
    "\n",
    "r1 = np.arange(len(bars1))\n",
    "r2 = [x + (barWidth) for x in r1]\n",
    "r3 = [x - (barWidth) for x in r1]\n",
    "\n",
    "plt.bar(r3, bars3, width=barWidth, edgecolor='white', label='Occupied 30')\n",
    "plt.bar(r1, bars1, width=barWidth, edgecolor='white', label='Occupied 60')\n",
    "plt.bar(r2, bars2, width=barWidth, edgecolor='white', label='Occupied 90')\n",
    "\n",
    "plt.xlabel('Cancellation Policy', fontweight='bold')\n",
    "plt.xticks([r  for r in range(len(bars1))], B2_policy, rotation='vertical')\n",
    "\n",
    "plt.title(\"Occupancy Rates by Cancellation Policy\")\n",
    "plt.legend()\n",
    "\n",
    "plt.show()"
   ]
  },
  {
   "cell_type": "markdown",
   "metadata": {},
   "source": [
    "#### Discussion: Occupany Rates by Number of Listing Reviews\n",
    "\n",
    "These results run true to my hypothesis that having a more flexible cancellation policy yields a higher expected occupancy rate.  However, let's consider the impact to pipeline health here; If the goal is to have more bookings in advance so that you know there will be revenue coming in, sacrificing that security to get those bookings may not work in your favor.  \n",
    "\n",
    "Consider the following scenario: \n",
    "\n",
    "You may have 20 nights booked over the next 30 days at your listing, but if 8 are cancelled at the last minute then you end up with unexpected gaps in your calendar.  Opposite that, your friend who has a stricter policy only has 10 nights booked over the next 30 days, but only 2 cancel. Your friend has a much better idea of when renters are coming to their listing AND still makes money off the cancellations.  \n",
    "\n",
    "Each scenario has pros and cons.  More bookings should yield more revenue, but those bookings are slightly more risky.  Less bookings that are more secure could lead to less revenue, but more security around that revenue.  Depending on your financial plans and calendar flexibility, you can decide what makes more sense for you.  "
   ]
  },
  {
   "cell_type": "markdown",
   "metadata": {},
   "source": [
    "## Final Thoughts\n",
    "\n",
    "RESULTS EVALUATION:\n",
    "\n",
    "Any host working with AirBnB will have different goals and motivations for why they are listing a unit.  Maybe they want to make some extra money on the side with their family home after kids move out.  Maybe someone has a number of properties and is trying to fill long-term vacancies with some shorter stays.  Whatever their motivation, my goal with this analysis was to help prospective or current AirBnB hosts understand more about their listings and how certain decisions can affect overall revenue. \n",
    "\n",
    "Overall I was pretty happy with my results and code on this project.  There are definitely other avenues to pursue, both as follow up business questions and some more advanced python techniques to discover:\n",
    "\n",
    "1) Parse out the listing amenities and do some analysis on those as binary (does the unit have Internet? Parking? etc)\n",
    "2) Delve deeper into how reviews affect occupancy rates.  Do qunatitative scores have a correlation? Can I build a matrix of Positive/Negative Reviews and Deviation from Avg. Neighbourhood Price to Occupancy Rates.  \n",
    "3) Do more experienced hosts get more reviews? Do they get more bookings?"
   ]
  },
  {
   "cell_type": "code",
   "execution_count": null,
   "metadata": {},
   "outputs": [],
   "source": []
  }
 ],
 "metadata": {
  "kernelspec": {
   "display_name": "Python 3",
   "language": "python",
   "name": "python3"
  },
  "language_info": {
   "codemirror_mode": {
    "name": "ipython",
    "version": 3
   },
   "file_extension": ".py",
   "mimetype": "text/x-python",
   "name": "python",
   "nbconvert_exporter": "python",
   "pygments_lexer": "ipython3",
   "version": "3.7.3"
  }
 },
 "nbformat": 4,
 "nbformat_minor": 2
}
